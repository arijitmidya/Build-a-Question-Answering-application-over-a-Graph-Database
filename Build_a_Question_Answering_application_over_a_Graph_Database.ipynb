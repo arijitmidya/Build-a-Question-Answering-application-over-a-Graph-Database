{
  "nbformat": 4,
  "nbformat_minor": 0,
  "metadata": {
    "colab": {
      "provenance": []
    },
    "kernelspec": {
      "name": "python3",
      "display_name": "Python 3"
    },
    "language_info": {
      "name": "python"
    }
  },
  "cells": [
    {
      "cell_type": "markdown",
      "source": [
        "# Build a Question Answering application over a Graph Database"
      ],
      "metadata": {
        "id": "8Uf2bpJcbGAv"
      }
    },
    {
      "cell_type": "markdown",
      "source": [
        "# 1. Install necessary dependencies"
      ],
      "metadata": {
        "id": "emheT3kDchti"
      }
    },
    {
      "cell_type": "code",
      "source": [
        "%pip install --upgrade --quiet langchain langchain-neo4j langchain-openai langgraph"
      ],
      "metadata": {
        "id": "woziQBjOAWrs"
      },
      "execution_count": 136,
      "outputs": []
    },
    {
      "cell_type": "code",
      "source": [
        "import getpass\n",
        "import os\n",
        "\n",
        "if \"OPENAI_API_KEY\" not in os.environ:\n",
        "    os.environ[\"OPENAI_API_KEY\"] = getpass.getpass(\"Enter your OpenAI API key: \")\n",
        "\n",
        "# Uncomment the below to use LangSmith. Not required.\n",
        "# os.environ[\"LANGSMITH_API_KEY\"] = getpass.getpass()\n",
        "# os.environ[\"LANGSMITH_TRACING\"] = \"true\""
      ],
      "metadata": {
        "id": "r7THmkwmAYkP"
      },
      "execution_count": 137,
      "outputs": []
    },
    {
      "cell_type": "code",
      "source": [
        "os.environ[\"NEO4J_URI\"] = \"neo4j+s://01685918.databases.neo4j.io\"\n",
        "os.environ[\"NEO4J_USERNAME\"] = \"neo4j\"\n",
        "os.environ[\"NEO4J_PASSWORD\"] = \"VDcktQ6eWGXbZ2pMPCBjxFQGpej-ZfBoevKTbAQ0tsQ\""
      ],
      "metadata": {
        "id": "x6JBxw8AAdEg"
      },
      "execution_count": 138,
      "outputs": []
    },
    {
      "cell_type": "markdown",
      "source": [
        "# 2. Loading the movies dataset to Neo4j DB\n",
        "\n",
        "a. Import necessary dependencies\n",
        "\n",
        "b. Creating a Neo4jGraph Instance\n",
        "\n",
        "c. Defining the Cypher Query (movies_query)\n",
        "\n",
        "1. This multi-line string contains a Cypher query that will be executed against the Neo4j database.\n",
        "2. LOAD CSV WITH HEADERS FROM ...: This Cypher clause loads data from a CSV file hosted on GitHub.\n",
        "3. AS row: This assigns each row of the CSV file to the variable row.\n",
        "4. MERGE (m:Movie {id:row.movieId}): This creates or updates a Movie node in the graph. MERGE ensures that a node with the specified id (which is the movieId from the CSV) is created only if it doesn't already exist.\n",
        "5. SET m.released = date(row.released), m.title = row.title, m.imdbRating = toFloat(row.imdbRating): This sets properties on the Movie node:\n",
        "\n",
        "m.released: The release date, converted to a Neo4j date type.\n",
        "\n",
        "m.title: The movie title.\n",
        "\n",
        "m.imdbRating: The IMDb rating, converted to a floating-point number.\n",
        "\n",
        "6. FOREACH (director in split(row.director, '|') | ...): This iterates through the directors listed in the director column (which can contain multiple directors separated by |).\n",
        "\n",
        "MERGE (p:Person {name:trim(director)}): Creates or updates a Person node for each director.\n",
        "\n",
        "MERGE (p)-[:DIRECTED]->(m): Creates a DIRECTED relationship from the Person node to the Movie node.\n",
        "\n",
        "7. FOREACH (actor in split(row.actors, '|') | ...): This does the same for actors, creating Person nodes and ACTED_IN relationships.\n",
        "8. FOREACH (genre in split(row.genres, '|') | ...): This does the same for genres, creating Genre nodes and IN_GENRE relationships.\n",
        "\n",
        "d. Executing the Cypher Query\n",
        "\n",
        "Summary\n",
        "\n",
        "This code connects to a Neo4j database, loads movie data from a CSV file, and creates a graph structure representing movies, people (directors and actors), and genres, with relationships between them. The MERGE operation is used to prevent duplicate nodes, and FOREACH is used to handle multi-valued columns in the CSV."
      ],
      "metadata": {
        "id": "oa6PHgnxkU0n"
      }
    },
    {
      "cell_type": "code",
      "source": [
        "from langchain_neo4j import Neo4jGraph\n",
        "\n",
        "graph = Neo4jGraph()\n",
        "\n",
        "# Import movie information\n",
        "\n",
        "movies_query = \"\"\"\n",
        "LOAD CSV WITH HEADERS FROM\n",
        "'https://raw.githubusercontent.com/tomasonjo/blog-datasets/main/movies/movies_small.csv'\n",
        "AS row\n",
        "MERGE (m:Movie {id:row.movieId})\n",
        "SET m.released = date(row.released),\n",
        "    m.title = row.title,\n",
        "    m.imdbRating = toFloat(row.imdbRating)\n",
        "FOREACH (director in split(row.director, '|') |\n",
        "    MERGE (p:Person {name:trim(director)})\n",
        "    MERGE (p)-[:DIRECTED]->(m))\n",
        "FOREACH (actor in split(row.actors, '|') |\n",
        "    MERGE (p:Person {name:trim(actor)})\n",
        "    MERGE (p)-[:ACTED_IN]->(m))\n",
        "FOREACH (genre in split(row.genres, '|') |\n",
        "    MERGE (g:Genre {name:trim(genre)})\n",
        "    MERGE (m)-[:IN_GENRE]->(g))\n",
        "\"\"\"\n",
        "\n",
        "graph.query(movies_query)"
      ],
      "metadata": {
        "colab": {
          "base_uri": "https://localhost:8080/"
        },
        "id": "pgdUCVaOAzaM",
        "outputId": "c7bd7693-3344-4a05-b3d4-c44f07687c74"
      },
      "execution_count": 139,
      "outputs": [
        {
          "output_type": "execute_result",
          "data": {
            "text/plain": [
              "[]"
            ]
          },
          "metadata": {},
          "execution_count": 139
        }
      ]
    },
    {
      "cell_type": "markdown",
      "source": [
        "# 3. Graph schema"
      ],
      "metadata": {
        "id": "KjPz919ZmQA8"
      }
    },
    {
      "cell_type": "markdown",
      "source": [
        "### Print the current Schema\n",
        "\n",
        "This code snippet refreshes the schema information of a Neo4j graph database using LangChain's Neo4jGraph and then prints the schema to the console. This is useful for:\n",
        "\n",
        "Inspecting the graph's structure: Understanding the nodes, relationships, and properties that exist in the graph.\n",
        "Verifying schema changes: Ensuring that any changes made to the graph have been correctly reflected in the schema.\n",
        "Providing context to LangChain agents: Allowing agents to understand the graph's structure and generate appropriate Cypher queries."
      ],
      "metadata": {
        "id": "X4QzuGF9mqLZ"
      }
    },
    {
      "cell_type": "code",
      "source": [
        "graph.refresh_schema()\n",
        "print(graph.schema)"
      ],
      "metadata": {
        "colab": {
          "base_uri": "https://localhost:8080/"
        },
        "id": "lzf7A_6rA3kV",
        "outputId": "81e620bc-9167-4bc2-ae4f-302d49dfc58d"
      },
      "execution_count": 140,
      "outputs": [
        {
          "output_type": "stream",
          "name": "stdout",
          "text": [
            "Node properties:\n",
            "Movie {id: STRING, released: DATE, title: STRING, imdbRating: FLOAT}\n",
            "Person {name: STRING}\n",
            "Genre {name: STRING}\n",
            "Chunk {id: STRING, embedding: LIST, text: STRING, question: STRING, query: STRING}\n",
            "Relationship properties:\n",
            "\n",
            "The relationships:\n",
            "(:Movie)-[:IN_GENRE]->(:Genre)\n",
            "(:Person)-[:DIRECTED]->(:Movie)\n",
            "(:Person)-[:ACTED_IN]->(:Movie)\n"
          ]
        }
      ]
    },
    {
      "cell_type": "markdown",
      "source": [
        "### Enhanced Schema"
      ],
      "metadata": {
        "id": "1OeyjWeGnA2s"
      }
    },
    {
      "cell_type": "code",
      "source": [
        "enhanced_graph = Neo4jGraph(enhanced_schema=True)\n",
        "print(enhanced_graph.schema)"
      ],
      "metadata": {
        "colab": {
          "base_uri": "https://localhost:8080/"
        },
        "id": "wVKWpv_qF8ql",
        "outputId": "9786ed29-e364-4fa2-f686-4f20a6279467"
      },
      "execution_count": 141,
      "outputs": [
        {
          "output_type": "stream",
          "name": "stdout",
          "text": [
            "Node properties:\n",
            "- **Movie**\n",
            "  - `id`: STRING Example: \"1\"\n",
            "  - `released`: DATE Min: 1964-12-16, Max: 1996-09-15\n",
            "  - `title`: STRING Example: \"Toy Story\"\n",
            "  - `imdbRating`: FLOAT Min: 2.4, Max: 9.3\n",
            "- **Person**\n",
            "  - `name`: STRING Example: \"John Lasseter\"\n",
            "- **Genre**\n",
            "  - `name`: STRING Example: \"Adventure\"\n",
            "- **Chunk**\n",
            "  - `id`: STRING Available options: ['d66006059fd78d63f3df90cc1059639a', '0e3dcb4502853979d12357690a95ec17', 'c438c6bcdcf8e4fab227f29f8e7ff204', '97fe701ec38057594464beaa2df0710e', 'b54f9286e684373498c4504b4edd9910', '5b50a72c3a4954b0ff7a0421be4f99b9', 'fb28d41771e717255f0d8f6c799ede32', '58e6f14dd2e6c6702cf333f2335c499c']\n",
            "  - `text`: STRING Available options: ['How many artists are there?', 'Which actors played in the movie Casino?', 'How many movies has Tom Hanks acted in?', \"List all the genres of the movie Schindler's List\", 'Which actors have worked in movies from both the c', 'Which directors have made movies with at least thr', 'Identify movies where directors also played a role', 'Find the actor with the highest number of movies i']\n",
            "  - `question`: STRING Available options: ['How many artists are there?', 'Which actors played in the movie Casino?', 'How many movies has Tom Hanks acted in?', \"List all the genres of the movie Schindler's List\", 'Which actors have worked in movies from both the c', 'Which directors have made movies with at least thr', 'Identify movies where directors also played a role', 'Find the actor with the highest number of movies i']\n",
            "  - `query`: STRING Available options: ['MATCH (a:Person)-[:ACTED_IN]->(:Movie) RETURN coun', \"MATCH (m:Movie {title: 'Casino'})<-[:ACTED_IN]-(a)\", \"MATCH (a:Person {name: 'Tom Hanks'})-[:ACTED_IN]->\", \"MATCH (m:Movie {title: 'Schindler's List'})-[:IN_G\", 'MATCH (a:Person)-[:ACTED_IN]->(:Movie)-[:IN_GENRE]', 'MATCH (d:Person)-[:DIRECTED]->(m:Movie)<-[:ACTED_I', 'MATCH (p:Person)-[:DIRECTED]->(m:Movie), (p)-[:ACT', 'MATCH (a:Actor)-[:ACTED_IN]->(m:Movie) RETURN a.na']\n",
            "Relationship properties:\n",
            "\n",
            "The relationships:\n",
            "(:Movie)-[:IN_GENRE]->(:Genre)\n",
            "(:Person)-[:DIRECTED]->(:Movie)\n",
            "(:Person)-[:ACTED_IN]->(:Movie)\n"
          ]
        }
      ]
    },
    {
      "cell_type": "markdown",
      "source": [
        "# 4. Leveraging out of the box GraphQACypherChain"
      ],
      "metadata": {
        "id": "YzsEgc9wnRhN"
      }
    },
    {
      "cell_type": "markdown",
      "source": [
        "### GraphQACypherChain\n",
        "\n",
        "simple out-of-the-box chain that takes a question, turns it into a Cypher query, executes the query, and uses the result to answer the original question.\n",
        "\n",
        "![image.png](data:image/png;base64,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)"
      ],
      "metadata": {
        "id": "R2NCcFOCoo2e"
      }
    },
    {
      "cell_type": "code",
      "source": [
        "from langchain_neo4j import GraphCypherQAChain\n",
        "from langchain_openai import ChatOpenAI\n",
        "\n",
        "llm = ChatOpenAI(model=\"gpt-4o-mini\", temperature=0)\n",
        "chain = GraphCypherQAChain.from_llm(\n",
        "    graph=enhanced_graph, llm=llm, verbose=True, allow_dangerous_requests=True\n",
        ")\n",
        "response = chain.invoke({\"query\": \"What was the cast of the Casino?\"})\n",
        "response"
      ],
      "metadata": {
        "colab": {
          "base_uri": "https://localhost:8080/"
        },
        "id": "06ydUVKUF29X",
        "outputId": "1d22b651-2e36-467f-dee9-b505512e4ca7"
      },
      "execution_count": 142,
      "outputs": [
        {
          "output_type": "stream",
          "name": "stdout",
          "text": [
            "\n",
            "\n",
            "\u001b[1m> Entering new GraphCypherQAChain chain...\u001b[0m\n",
            "Generated Cypher:\n",
            "\u001b[32;1m\u001b[1;3m\n",
            "MATCH (p:Person)-[:ACTED_IN]->(m:Movie {title: 'Casino'}) RETURN p.name\n",
            "\u001b[0m\n",
            "Full Context:\n",
            "\u001b[32;1m\u001b[1;3m[{'p.name': 'Robert De Niro'}, {'p.name': 'Joe Pesci'}, {'p.name': 'Sharon Stone'}, {'p.name': 'James Woods'}]\u001b[0m\n",
            "\n",
            "\u001b[1m> Finished chain.\u001b[0m\n"
          ]
        },
        {
          "output_type": "execute_result",
          "data": {
            "text/plain": [
              "{'query': 'What was the cast of the Casino?',\n",
              " 'result': 'The cast of Casino includes Robert De Niro, Joe Pesci, Sharon Stone, and James Woods.'}"
            ]
          },
          "metadata": {},
          "execution_count": 142
        }
      ]
    },
    {
      "cell_type": "code",
      "source": [
        "chain.invoke({\"query\": \"imdb rating of the movie Casino?\"})"
      ],
      "metadata": {
        "colab": {
          "base_uri": "https://localhost:8080/"
        },
        "id": "yskPnkt0ndjW",
        "outputId": "2b6fd4f0-d260-429c-90f9-f84eeb4ab922"
      },
      "execution_count": 144,
      "outputs": [
        {
          "output_type": "stream",
          "name": "stdout",
          "text": [
            "\n",
            "\n",
            "\u001b[1m> Entering new GraphCypherQAChain chain...\u001b[0m\n",
            "Generated Cypher:\n",
            "\u001b[32;1m\u001b[1;3mcypher\n",
            "MATCH (m:Movie {title: 'Casino'}) RETURN m.imdbRating\n",
            "\u001b[0m\n",
            "Full Context:\n",
            "\u001b[32;1m\u001b[1;3m[{'m.imdbRating': 8.2}]\u001b[0m\n",
            "\n",
            "\u001b[1m> Finished chain.\u001b[0m\n"
          ]
        },
        {
          "output_type": "execute_result",
          "data": {
            "text/plain": [
              "{'query': 'imdb rating of the movie Casino?',\n",
              " 'result': 'The IMDb rating of the movie Casino is 8.2.'}"
            ]
          },
          "metadata": {},
          "execution_count": 144
        }
      ]
    },
    {
      "cell_type": "code",
      "source": [
        "chain.invoke({\"query\": \"What was the cast of the movie Dracula: Dead and Loving It?\"})"
      ],
      "metadata": {
        "colab": {
          "base_uri": "https://localhost:8080/"
        },
        "id": "wlKmglglnqnf",
        "outputId": "1f72bc92-df5a-4a89-e907-88c2c09d20e3"
      },
      "execution_count": 145,
      "outputs": [
        {
          "output_type": "stream",
          "name": "stdout",
          "text": [
            "\n",
            "\n",
            "\u001b[1m> Entering new GraphCypherQAChain chain...\u001b[0m\n",
            "Generated Cypher:\n",
            "\u001b[32;1m\u001b[1;3mMATCH (p:Person)-[:ACTED_IN]->(m:Movie {title: 'Dracula: Dead and Loving It'}) RETURN p.name\u001b[0m\n",
            "Full Context:\n",
            "\u001b[32;1m\u001b[1;3m[{'p.name': 'Peter MacNicol'}, {'p.name': 'Leslie Nielsen'}, {'p.name': 'Steven Weber'}, {'p.name': 'Amy Yasbeck'}]\u001b[0m\n",
            "\n",
            "\u001b[1m> Finished chain.\u001b[0m\n"
          ]
        },
        {
          "output_type": "execute_result",
          "data": {
            "text/plain": [
              "{'query': 'What was the cast of the movie Dracula: Dead and Loving It?',\n",
              " 'result': 'The cast of the movie Dracula: Dead and Loving It includes Peter MacNicol, Leslie Nielsen, Steven Weber, and Amy Yasbeck.'}"
            ]
          },
          "metadata": {},
          "execution_count": 145
        }
      ]
    },
    {
      "cell_type": "markdown",
      "source": [
        "# 4. Advanced implementation with LangGraph"
      ],
      "metadata": {
        "id": "kBPvSXuNo-l6"
      }
    },
    {
      "cell_type": "markdown",
      "source": [
        "### a. Define the state\n",
        "\n",
        "1. Importing Libraries\n",
        "\n",
        "2. Defining InputState\n",
        "\n",
        "class InputState(TypedDict):: Defines a TypedDict called InputState.\n",
        "\n",
        "question: str: Specifies that InputState should contain a key named question with a value of type string.\n",
        "\n",
        "This represents the initial input to the LangChain application, which is the user's question.\n",
        "\n",
        "3. Defining OverallState\n",
        "\n",
        "class OverallState(TypedDict): Defines a TypedDict called OverallState.\n",
        "\n",
        "question: str: The user's question (string).\n",
        "\n",
        "next_action: str: The next action the agent should take (string).\n",
        "\n",
        "cypher_statement: str: The Cypher query generated by the agent (string).\n",
        "\n",
        "cypher_errors: List[str]: A list of any errors encountered during Cypher execution (list of strings).\n",
        "\n",
        "database_records: List[dict]: A list of dictionaries representing the results returned from the database (list of dictionaries).\n",
        "\n",
        "steps: Annotated[List[str], add]: A list of strings representing the steps taken by the agent, annotated with the add function. This annotation indicates that when combining multiple OverallState objects, the steps lists should be concatenated using the add operation.\n",
        "\n",
        "4. Defining OutputState\n",
        "\n",
        "class OutputState(TypedDict):: Defines a TypedDict called OutputState.\n",
        "\n",
        "answer: str: The final answer generated by the agent (string).\n",
        "\n",
        "steps: List[str]: A list of strings representing the steps taken by the agent (list of strings).\n",
        "\n",
        "cypher_statement: str: The final Cypher query used (string).\n",
        "\n",
        "This represents the final output of the LangChain application.\n",
        "\n",
        "summary\n",
        "\n",
        "InputState: Represents the initial input, which is the user's question.\n",
        "\n",
        "OverallState: Represents the state of the application at any given point during its execution. It includes the question, the next action to take, the Cypher query, any errors, the database results, and the steps taken.\n",
        "\n",
        "OutputState: Represents the final output of the application, which is the answer, the steps taken, and the Cypher query used."
      ],
      "metadata": {
        "id": "4nc2oBbCpGKB"
      }
    },
    {
      "cell_type": "code",
      "source": [
        "from operator import add\n",
        "from typing import Annotated, List\n",
        "\n",
        "from typing_extensions import TypedDict\n",
        "\n",
        "\n",
        "class InputState(TypedDict):\n",
        "    question: str\n",
        "\n",
        "\n",
        "class OverallState(TypedDict):\n",
        "    question: str\n",
        "    next_action: str\n",
        "    cypher_statement: str\n",
        "    cypher_errors: List[str]\n",
        "    database_records: List[dict]\n",
        "    steps: Annotated[List[str], add]\n",
        "\n",
        "\n",
        "class OutputState(TypedDict):\n",
        "    answer: str\n",
        "    steps: List[str]\n",
        "    cypher_statement: str"
      ],
      "metadata": {
        "id": "bKPFivloGNQi"
      },
      "execution_count": 146,
      "outputs": []
    },
    {
      "cell_type": "markdown",
      "source": [
        "### b. Define the Guardrail mechanism\n",
        "\n",
        "1. Import necessary dependencies\n",
        "\n",
        "2. Guardrails System Prompt\n",
        "\n",
        "This defines the system prompt that instructs the LLM on its role: to classify questions as either \"movie\" or \"end\".\n",
        "\n",
        "It provides clear instructions on how to make the decision.\n",
        "\n",
        "3. Guardrails Prompt Template\n",
        "\n",
        "Creates a ChatPromptTemplate with two messages:\n",
        "\n",
        "The system message, which contains the guardrails instructions.\n",
        "\n",
        "The human message, which contains the user's question (represented by the {question} placeholder).\n",
        "\n",
        "4. Guardrails Output Model\n",
        "\n",
        "Defines a Pydantic BaseModel called GuardrailsOutput.\n",
        "\n",
        "This model specifies that the LLM's output should be a dictionary with a single key: decision.\n",
        "\n",
        "decision: Is a Literal type, meaning it can only be either \"movie\" or \"end\". This enforces structured output.\n",
        "\n",
        "Field(...): Adds metadata to the decision field, providing a description.\n",
        "\n",
        "5. Guardrails Chain\n",
        "\n",
        "Creates a LangChain runnable chain:\n",
        "\n",
        "guardrails_prompt: The prompt template.\n",
        "\n",
        "llm.with_structured_output(GuardrailsOutput): The LLM wrapped to ensure it outputs a GuardrailsOutput object (i.e., a dictionary with the decision key).\n",
        "\n",
        "6. Guardrails Function\n",
        "\n",
        "guardrails(state: InputState) -> OverallState: Defines a function called guardrails that takes an InputState (containing the question) and returns an OverallState.\n",
        "\n",
        "guardrails_output = guardrails_chain.invoke({\"question\": state.get(\"question\")}):\n",
        "\n",
        "Invokes the guardrails_chain with the user's question.\n",
        "\n",
        "Stores the LLM's output (a GuardrailsOutput object) in guardrails_output.\n",
        "\n",
        "database_records = None: Initializes database_records to None.\n",
        "\n",
        "if guardrails_output.decision == \"end\":: Checks if the LLM's decision was \"end\".\n",
        "database_records = \"This questions is not about movies or their cast. Therefore I cannot answer this question.\": If the question is not about movies, sets database_records to an error message.\n",
        "\n",
        "return {...}: Returns an OverallState dictionary:\n",
        "\n",
        "next_action: The LLM's decision (\"movie\" or \"end\").\n",
        "\n",
        "database_records: The error message (or None if the question is about movies).\n",
        "\n",
        "steps: A list containing \"guardrail\", indicating that this step was executed.\n",
        "\n",
        "\n",
        "Summary\n",
        "\n",
        "This code defines a guardrails mechanism that uses an LLM to classify user questions as either related to movies or not. It uses Pydantic to enforce structured output from the LLM and returns a state object that indicates the LLM's decision and any error messages. This can be used to prevent the agent from attempting to answer questions that are outside of its scope."
      ],
      "metadata": {
        "id": "TdPZkXDfqr6f"
      }
    },
    {
      "cell_type": "code",
      "source": [
        "from typing import Literal\n",
        "\n",
        "from langchain_core.prompts import ChatPromptTemplate\n",
        "from pydantic import BaseModel, Field\n",
        "\n",
        "guardrails_system = \"\"\"\n",
        "As an intelligent assistant, your primary objective is to decide whether a given question is related to movies or not.\n",
        "If the question is related to movies, output \"movie\". Otherwise, output \"end\".\n",
        "To make this decision, assess the content of the question and determine if it refers to any movie, actor, director, film industry,\n",
        "or related topics. Provide only the specified output: \"movie\" or \"end\".\n",
        "\"\"\"\n",
        "guardrails_prompt = ChatPromptTemplate.from_messages(\n",
        "    [\n",
        "        (\n",
        "            \"system\",\n",
        "            guardrails_system,\n",
        "        ),\n",
        "        (\n",
        "            \"human\",\n",
        "            (\"{question}\"),\n",
        "        ),\n",
        "    ]\n",
        ")\n",
        "\n",
        "\n",
        "class GuardrailsOutput(BaseModel):\n",
        "    decision: Literal[\"movie\", \"end\"] = Field(\n",
        "        description=\"Decision on whether the question is related to movies\"\n",
        "    )\n",
        "\n",
        "\n",
        "guardrails_chain = guardrails_prompt | llm.with_structured_output(GuardrailsOutput)\n",
        "\n",
        "\n",
        "def guardrails(state: InputState) -> OverallState:\n",
        "    \"\"\"\n",
        "    Decides if the question is related to movies or not.\n",
        "    \"\"\"\n",
        "    guardrails_output = guardrails_chain.invoke({\"question\": state.get(\"question\")})\n",
        "    database_records = None\n",
        "    if guardrails_output.decision == \"end\":\n",
        "        database_records = \"This questions is not about movies or their cast. Therefore I cannot answer this question.\"\n",
        "    return {\n",
        "        \"next_action\": guardrails_output.decision,\n",
        "        \"database_records\": database_records,\n",
        "        \"steps\": [\"guardrail\"],\n",
        "    }"
      ],
      "metadata": {
        "id": "PWGsXq22Gozl"
      },
      "execution_count": 147,
      "outputs": []
    },
    {
      "cell_type": "markdown",
      "source": [
        "### c. Few-shot prompting\n",
        "\n",
        "1. Import necessary dependencies\n",
        "\n",
        "2. Example Data:\n",
        "\n",
        "examples: A list of dictionaries, where each dictionary represents an example question and its corresponding Cypher query.\n",
        "\n",
        "These examples provide the system with a set of known question-query pairs that it can use to learn how to answer new questions.\n",
        "\n",
        "The questions cover a variety of topics and complexity levels, demonstrating different ways to interact with the Neo4j graph.\n",
        "\n",
        "3. Creating the Example Selector\n",
        "\n",
        "SemanticSimilarityExampleSelector.from_examples(...): Creates an instance of the SemanticSimilarityExampleSelector class.\n",
        "\n",
        "examples: The list of example question-query pairs.\n",
        "\n",
        "OpenAIEmbeddings(): Creates an instance of the OpenAIEmbeddings class, which will be used to generate embeddings for the questions.\n",
        "\n",
        "Neo4jVector: Specifies that Neo4j will be used as the vector store for storing and retrieving embeddings.\n",
        "\n",
        "k=5: Specifies that the selector should return the top 5 most similar examples.\n",
        "input_keys=[\"question\"]: Specifies that the \"question\" key should be used as the input for generating embeddings and calculating similarity.\n",
        "\n",
        "summary\n",
        "\n",
        "This code sets up a way to find questions that are similar to a new question you ask. It uses a \"meaning\" (embedding) of the questions to see how similar they are. When you ask a new question, it finds the 5 most similar questions from a list of example questions and their answers. This helps the system figure out how to answer your new question."
      ],
      "metadata": {
        "id": "OfO00q4GsFJ-"
      }
    },
    {
      "cell_type": "code",
      "source": [
        "from langchain_core.example_selectors import SemanticSimilarityExampleSelector\n",
        "from langchain_neo4j import Neo4jVector\n",
        "from langchain_openai import OpenAIEmbeddings\n",
        "\n",
        "examples = [\n",
        "    {\n",
        "        \"question\": \"How many artists are there?\",\n",
        "        \"query\": \"MATCH (a:Person)-[:ACTED_IN]->(:Movie) RETURN count(DISTINCT a)\",\n",
        "    },\n",
        "    {\n",
        "        \"question\": \"Which actors played in the movie Casino?\",\n",
        "        \"query\": \"MATCH (m:Movie {title: 'Casino'})<-[:ACTED_IN]-(a) RETURN a.name\",\n",
        "    },\n",
        "    {\n",
        "        \"question\": \"How many movies has Tom Hanks acted in?\",\n",
        "        \"query\": \"MATCH (a:Person {name: 'Tom Hanks'})-[:ACTED_IN]->(m:Movie) RETURN count(m)\",\n",
        "    },\n",
        "    {\n",
        "        \"question\": \"List all the genres of the movie Schindler's List\",\n",
        "        \"query\": \"MATCH (m:Movie {title: 'Schindler's List'})-[:IN_GENRE]->(g:Genre) RETURN g.name\",\n",
        "    },\n",
        "    {\n",
        "        \"question\": \"Which actors have worked in movies from both the comedy and action genres?\",\n",
        "        \"query\": \"MATCH (a:Person)-[:ACTED_IN]->(:Movie)-[:IN_GENRE]->(g1:Genre), (a)-[:ACTED_IN]->(:Movie)-[:IN_GENRE]->(g2:Genre) WHERE g1.name = 'Comedy' AND g2.name = 'Action' RETURN DISTINCT a.name\",\n",
        "    },\n",
        "    {\n",
        "        \"question\": \"Which directors have made movies with at least three different actors named 'John'?\",\n",
        "        \"query\": \"MATCH (d:Person)-[:DIRECTED]->(m:Movie)<-[:ACTED_IN]-(a:Person) WHERE a.name STARTS WITH 'John' WITH d, COUNT(DISTINCT a) AS JohnsCount WHERE JohnsCount >= 3 RETURN d.name\",\n",
        "    },\n",
        "    {\n",
        "        \"question\": \"Identify movies where directors also played a role in the film.\",\n",
        "        \"query\": \"MATCH (p:Person)-[:DIRECTED]->(m:Movie), (p)-[:ACTED_IN]->(m) RETURN m.title, p.name\",\n",
        "    },\n",
        "    {\n",
        "        \"question\": \"Find the actor with the highest number of movies in the database.\",\n",
        "        \"query\": \"MATCH (a:Actor)-[:ACTED_IN]->(m:Movie) RETURN a.name, COUNT(m) AS movieCount ORDER BY movieCount DESC LIMIT 1\",\n",
        "    },\n",
        "]\n",
        "\n",
        "example_selector = SemanticSimilarityExampleSelector.from_examples(\n",
        "    examples, OpenAIEmbeddings(), Neo4jVector, k=5, input_keys=[\"question\"]\n",
        ")"
      ],
      "metadata": {
        "id": "GsSgxQe5Gu3x"
      },
      "execution_count": 148,
      "outputs": []
    },
    {
      "cell_type": "markdown",
      "source": [
        "### d. Cypher generation chain\n",
        "\n",
        "1. Import necessary dependencies\n",
        "\n",
        "2. Text-to-Cypher Prompt Template\n",
        "\n",
        "ChatPromptTemplate: Creates a prompt template for a chat-based LLM.\n",
        "System Message: Instructs the LLM to convert questions to Cypher queries without any extra text.\n",
        "\n",
        "Human Message:\n",
        "\n",
        "Provides context about the LLM being a Neo4j expert.\n",
        "\n",
        "Instructs it to create syntactically correct Cypher queries.\n",
        "\n",
        "Includes placeholders for schema ({schema}), few-shot examples ({fewshot_examples}), and the user's question ({question}).\n",
        "\n",
        "3. Text-to-Cypher Chain\n",
        "\n",
        "Creates a LangChain runnable chain:\n",
        "\n",
        "text2cypher_prompt: The prompt template.\n",
        "\n",
        "llm: The LLM to use.\n",
        "\n",
        "StrOutputParser(): Parses the LLM's output into a string.\n",
        "\n",
        "4. generate_cypher Function\n",
        "\n",
        "generate_cypher(state: OverallState) -> OverallState: Defines a function that takes an OverallState and returns an updated OverallState.\n",
        "\n",
        "NL = \"\\n\": Defines a newline character for formatting.\n",
        "\n",
        "fewshot_examples = ...:\n",
        "\n",
        "Retrieves few-shot examples using example_selector.select_examples(), which selects examples based on semantic similarity.\n",
        "\n",
        "Formats each example as \"Question: ...\\nCypher: ...\".\n",
        "\n",
        "Joins the examples with double newlines.\n",
        "\n",
        "generated_cypher = text2cypher_chain.invoke(...):\n",
        "\n",
        "Invokes the text2cypher_chain with the user's question, few-shot examples, and schema information.\n",
        "\n",
        "Stores the generated Cypher query in generated_cypher.\n",
        "\n",
        "return {\"cypher_statement\": generated_cypher, \"steps\": [\"generate_cypher\"]}:\n",
        "\n",
        "Returns a dictionary containing the generated Cypher query and the step taken.\n",
        "\n",
        "summary\n",
        "\n",
        "This code defines a function that takes a user question and generates a Cypher query to answer it. It uses a prompt template that includes schema information and few-shot examples to guide the LLM. The few-shot examples are selected based on semantic similarity to the user's question, which helps the LLM generate more accurate queries. The generated Cypher query is then returned as part of an OverallState object. This function is a key part of a question-answering system that interacts with a Neo4j graph database."
      ],
      "metadata": {
        "id": "YucIG5ZDtGpy"
      }
    },
    {
      "cell_type": "code",
      "source": [
        "from langchain_core.output_parsers import StrOutputParser\n",
        "\n",
        "text2cypher_prompt = ChatPromptTemplate.from_messages(\n",
        "    [\n",
        "        (\n",
        "            \"system\",\n",
        "            (\n",
        "                \"Given an input question, convert it to a Cypher query. No pre-amble.\"\n",
        "                \"Do not wrap the response in any backticks or anything else. Respond with a Cypher statement only!\"\n",
        "            ),\n",
        "        ),\n",
        "        (\n",
        "            \"human\",\n",
        "            (\n",
        "                \"\"\"You are a Neo4j expert. Given an input question, create a syntactically correct Cypher query to run.\n",
        "Do not wrap the response in any backticks or anything else. Respond with a Cypher statement only!\n",
        "Here is the schema information\n",
        "{schema}\n",
        "\n",
        "Below are a number of examples of questions and their corresponding Cypher queries.\n",
        "\n",
        "{fewshot_examples}\n",
        "\n",
        "User input: {question}\n",
        "Cypher query:\"\"\"\n",
        "            ),\n",
        "        ),\n",
        "    ]\n",
        ")\n",
        "\n",
        "text2cypher_chain = text2cypher_prompt | llm | StrOutputParser()\n",
        "\n",
        "\n",
        "def generate_cypher(state: OverallState) -> OverallState:\n",
        "    \"\"\"\n",
        "    Generates a cypher statement based on the provided schema and user input\n",
        "    \"\"\"\n",
        "    NL = \"\\n\"\n",
        "    fewshot_examples = (NL * 2).join(\n",
        "        [\n",
        "            f\"Question: {el['question']}{NL}Cypher:{el['query']}\"\n",
        "            for el in example_selector.select_examples(\n",
        "                {\"question\": state.get(\"question\")}\n",
        "            )\n",
        "        ]\n",
        "    )\n",
        "    generated_cypher = text2cypher_chain.invoke(\n",
        "        {\n",
        "            \"question\": state.get(\"question\"),\n",
        "            \"fewshot_examples\": fewshot_examples,\n",
        "            \"schema\": enhanced_graph.schema,\n",
        "        }\n",
        "    )\n",
        "    return {\"cypher_statement\": generated_cypher, \"steps\": [\"generate_cypher\"]}"
      ],
      "metadata": {
        "id": "vbvF9tS4G0ek"
      },
      "execution_count": 150,
      "outputs": []
    },
    {
      "cell_type": "markdown",
      "source": [
        "### e. Query validation\n",
        "\n",
        "1. Import necessary dependencies\n",
        "\n",
        "2. Validation System Prompt\n",
        "\n",
        "Defines the system prompt that sets the LLM's role as a Cypher expert reviewing a query.\n",
        "\n",
        "3. Validation User Prompt:\n",
        "\n",
        "Defines the user prompt that provides detailed instructions to the LLM.\n",
        "\n",
        "It lists the checks the LLM should perform, including syntax errors, missing variables, schema mismatches, and query completeness.\n",
        "\n",
        "It provides examples of good error messages.\n",
        "\n",
        "It includes placeholders for the schema ({schema}), question ({question}), and Cypher query ({cypher}).\n",
        "\n",
        "4. Validation Prompt Template\n",
        "\n",
        "Creates a ChatPromptTemplate with the system and user messages\n",
        "\n",
        "5. Property Model\n",
        "\n",
        "Defines a Pydantic model called Property to represent a filter condition in a Cypher query.\n",
        "\n",
        "It has fields for the node label, property key, and property value.\n",
        "\n",
        "6. ValidateCypherOutput Model\n",
        "\n",
        "Defines a Pydantic model called ValidateCypherOutput to represent the validation result.\n",
        "\n",
        "It has fields for errors (a list of strings) and filters (a list of Property objects).\n",
        "\n",
        "The errors field is crucial, as it will contain the LLM's feedback on the Cypher query.\n",
        "\n",
        "7. Validation Chain\n",
        "\n",
        "Creates a LangChain runnable chain:\n",
        "\n",
        "validate_cypher_prompt: The prompt template.\n",
        "\n",
        "llm.with_structured_output(ValidateCypherOutput): The LLM wrapped to ensure it outputs a ValidateCypherOutput object.\n",
        "\n",
        "summary\n",
        "\n",
        "This code sets up a validation system that uses an LLM to check Cypher queries for syntax errors, schema mismatches, and completeness. It uses Pydantic models to define the structure of the input and output, which helps to ensure that the LLM's output is consistent and can be easily parsed. This system can be used to improve the quality of Cypher queries generated by other parts of the application.\n"
      ],
      "metadata": {
        "id": "h89VeQmZuMsb"
      }
    },
    {
      "cell_type": "code",
      "source": [
        "from typing import List, Optional\n",
        "\n",
        "validate_cypher_system = \"\"\"\n",
        "You are a Cypher expert reviewing a statement written by a junior developer.\n",
        "\"\"\"\n",
        "\n",
        "validate_cypher_user = \"\"\"You must check the following:\n",
        "* Are there any syntax errors in the Cypher statement?\n",
        "* Are there any missing or undefined variables in the Cypher statement?\n",
        "* Are any node labels missing from the schema?\n",
        "* Are any relationship types missing from the schema?\n",
        "* Are any of the properties not included in the schema?\n",
        "* Does the Cypher statement include enough information to answer the question?\n",
        "\n",
        "Examples of good errors:\n",
        "* Label (:Foo) does not exist, did you mean (:Bar)?\n",
        "* Property bar does not exist for label Foo, did you mean baz?\n",
        "* Relationship FOO does not exist, did you mean FOO_BAR?\n",
        "\n",
        "Schema:\n",
        "{schema}\n",
        "\n",
        "The question is:\n",
        "{question}\n",
        "\n",
        "The Cypher statement is:\n",
        "{cypher}\n",
        "\n",
        "Make sure you don't make any mistakes!\"\"\"\n",
        "\n",
        "validate_cypher_prompt = ChatPromptTemplate.from_messages(\n",
        "    [\n",
        "        (\n",
        "            \"system\",\n",
        "            validate_cypher_system,\n",
        "        ),\n",
        "        (\n",
        "            \"human\",\n",
        "            (validate_cypher_user),\n",
        "        ),\n",
        "    ]\n",
        ")\n",
        "\n",
        "\n",
        "class Property(BaseModel):\n",
        "    \"\"\"\n",
        "    Represents a filter condition based on a specific node property in a graph in a Cypher statement.\n",
        "    \"\"\"\n",
        "\n",
        "    node_label: str = Field(\n",
        "        description=\"The label of the node to which this property belongs.\"\n",
        "    )\n",
        "    property_key: str = Field(description=\"The key of the property being filtered.\")\n",
        "    property_value: str = Field(\n",
        "        description=\"The value that the property is being matched against.\"\n",
        "    )\n",
        "\n",
        "\n",
        "class ValidateCypherOutput(BaseModel):\n",
        "    \"\"\"\n",
        "    Represents the validation result of a Cypher query's output,\n",
        "    including any errors and applied filters.\n",
        "    \"\"\"\n",
        "\n",
        "    errors: Optional[List[str]] = Field(\n",
        "        description=\"A list of syntax or semantical errors in the Cypher statement. Always explain the discrepancy between schema and Cypher statement\"\n",
        "    )\n",
        "    filters: Optional[List[Property]] = Field(\n",
        "        description=\"A list of property-based filters applied in the Cypher statement.\"\n",
        "    )\n",
        "\n",
        "\n",
        "validate_cypher_chain = validate_cypher_prompt | llm.with_structured_output(\n",
        "    ValidateCypherOutput\n",
        ")"
      ],
      "metadata": {
        "id": "1DP2WjxSG8ni"
      },
      "execution_count": 151,
      "outputs": []
    },
    {
      "cell_type": "markdown",
      "source": [
        "### f. Defining the CypherQueryCorrector\n",
        "\n",
        "The CypherQueryCorrector is designed to:\n",
        "\n",
        "Identify Errors: Detect syntax and semantic errors in Cypher queries.\n",
        "\n",
        "Suggest Corrections: Provide suggestions for fixing errors, such as typos in node labels or relationship types.\n",
        "\n",
        "Improve Queries: Enhance queries by suggesting more efficient or accurate ways to retrieve data.\n",
        "\n",
        "How it Works :\n",
        "\n",
        "Schema-Based Validation: The corrector uses the provided schema to check if the node labels, relationship types, and properties used in the query are valid.\n",
        "\n",
        "Typo Correction: It might use techniques like edit distance to suggest corrections for misspelled node labels or relationship types.\n",
        "\n",
        "Relationship Suggestions: It might suggest alternative relationships based on the schema and the context of the query.\n",
        "\n",
        "Property Suggestions: It might suggest valid properties for nodes based on the schema.\n",
        "\n",
        "In summary:\n",
        "\n",
        "This code initializes a CypherQueryCorrector that will be used to validate and improve Cypher queries. It creates a schema representation from the enhanced_graph object, which is then used by the corrector. This is an experimental feature, but it can be valuable for ensuring the quality and correctness of Cypher queries in a LangChain application that interacts with a Neo4j graph database."
      ],
      "metadata": {
        "id": "rlrUe798v-uA"
      }
    },
    {
      "cell_type": "code",
      "source": [
        "from langchain_neo4j.chains.graph_qa.cypher_utils import CypherQueryCorrector, Schema\n",
        "\n",
        "# Cypher query corrector is experimental\n",
        "corrector_schema = [\n",
        "    Schema(el[\"start\"], el[\"type\"], el[\"end\"])\n",
        "    for el in enhanced_graph.structured_schema.get(\"relationships\")\n",
        "]\n",
        "cypher_query_corrector = CypherQueryCorrector(corrector_schema)"
      ],
      "metadata": {
        "id": "upiEArVAHWQq"
      },
      "execution_count": 152,
      "outputs": []
    },
    {
      "cell_type": "markdown",
      "source": [
        "### g. Define the utility function validate_cypher\n",
        "\n",
        "1. Import necessary dependencies\n",
        "\n",
        "2. validate_cypher Function\n",
        "\n",
        "a. Initialization:\n",
        "\n",
        "errors = []: Initializes an empty list to store Cypher syntax or semantic errors.\n",
        "\n",
        "mapping_errors = []: Initializes an empty list to store errors related to mapping property values.\n",
        "\n",
        "b. Syntax Error Check:\n",
        "\n",
        "try...except CypherSyntaxError: Attempts to execute an EXPLAIN query on the generated Cypher statement. EXPLAIN checks the syntax without actually executing the query.\n",
        "\n",
        "If a CypherSyntaxError occurs, the error message is appended to the errors list.\n",
        "\n",
        "c. Relationship Direction Correction:\n",
        "\n",
        "corrected_cypher = cypher_query_corrector(state.get(\"cypher_statement\")): Uses the cypher_query_corrector (from a previous code snippet) to correct the Cypher statement, especially regarding relationship directions.\n",
        "\n",
        "If corrected_cypher is empty (meaning the query doesn't fit the schema), an error is added to the errors list.\n",
        "\n",
        "If the corrected Cypher is different from the original, a message is printed indicating the correction.\n",
        "\n",
        "d. LLM Validation:\n",
        "\n",
        "llm_output = validate_cypher_chain.invoke(...): Invokes the validate_cypher_chain (from a previous code snippet) to use an LLM to find additional potential errors and extract property filters.\n",
        "\n",
        "If llm_output.errors is not empty, the errors are added to the errors list.\n",
        "\n",
        "e. Property Value Mapping:\n",
        "\n",
        "if llm_output.filters: Iterates through the filters extracted by the LLM.\n",
        "\n",
        "if not ... == \"STRING\": Checks if the property type is not a string. If it's not a string, it skips the mapping.\n",
        "\n",
        "mapping = enhanced_graph.query(...): Executes a Cypher query to check if the property value exists in the database (case-insensitive).\n",
        "\n",
        "If mapping is empty (meaning the value is not found), a mapping error is added to the mapping_errors list.\n",
        "\n",
        "f. Determining Next Action:\n",
        "\n",
        "if mapping_errors: If there are mapping errors, sets next_action to \"end\".\n",
        "\n",
        "elif errors: If there are other errors, sets next_action to \"correct_cypher\".\n",
        "\n",
        "else: If there are no errors, sets next_action to \"execute_cypher\".\n",
        "\n",
        "g. Returning OverallState:\n",
        "\n",
        "Returns an OverallState dictionary containing the next_action, corrected Cypher statement, errors, and the step taken.\n",
        "\n",
        "summary:\n",
        "\n",
        "The validate_cypher function does the following:\n",
        "\n",
        "1. Checks for syntax errors in the Cypher query.\n",
        "2. Corrects relationship directions using a CypherQueryCorrector.\n",
        "3. Uses an LLM to find semantic errors and extract property filters.\n",
        "4. Maps property values to the database and identifies missing values.\n",
        "5. Determines the next action based on the validation results.\n",
        "6. Returns the updated state.\n"
      ],
      "metadata": {
        "id": "DKDSiIN3wsLw"
      }
    },
    {
      "cell_type": "code",
      "source": [
        "from neo4j.exceptions import CypherSyntaxError\n",
        "\n",
        "\n",
        "def validate_cypher(state: OverallState) -> OverallState:\n",
        "    \"\"\"\n",
        "    Validates the Cypher statements and maps any property values to the database.\n",
        "    \"\"\"\n",
        "    errors = []\n",
        "    mapping_errors = []\n",
        "    # Check for syntax errors\n",
        "    try:\n",
        "        enhanced_graph.query(f\"EXPLAIN {state.get('cypher_statement')}\")\n",
        "    except CypherSyntaxError as e:\n",
        "        errors.append(e.message)\n",
        "    # Experimental feature for correcting relationship directions\n",
        "    corrected_cypher = cypher_query_corrector(state.get(\"cypher_statement\"))\n",
        "    if not corrected_cypher:\n",
        "        errors.append(\"The generated Cypher statement doesn't fit the graph schema\")\n",
        "    if not corrected_cypher == state.get(\"cypher_statement\"):\n",
        "        print(\"Relationship direction was corrected\")\n",
        "    # Use LLM to find additional potential errors and get the mapping for values\n",
        "    llm_output = validate_cypher_chain.invoke(\n",
        "        {\n",
        "            \"question\": state.get(\"question\"),\n",
        "            \"schema\": enhanced_graph.schema,\n",
        "            \"cypher\": state.get(\"cypher_statement\"),\n",
        "        }\n",
        "    )\n",
        "    if llm_output.errors:\n",
        "        errors.extend(llm_output.errors)\n",
        "    if llm_output.filters:\n",
        "        for filter in llm_output.filters:\n",
        "            # Do mapping only for string values\n",
        "            if (\n",
        "                not [\n",
        "                    prop\n",
        "                    for prop in enhanced_graph.structured_schema[\"node_props\"][\n",
        "                        filter.node_label\n",
        "                    ]\n",
        "                    if prop[\"property\"] == filter.property_key\n",
        "                ][0][\"type\"]\n",
        "                == \"STRING\"\n",
        "            ):\n",
        "                continue\n",
        "            mapping = enhanced_graph.query(\n",
        "                f\"MATCH (n:{filter.node_label}) WHERE toLower(n.`{filter.property_key}`) = toLower($value) RETURN 'yes' LIMIT 1\",\n",
        "                {\"value\": filter.property_value},\n",
        "            )\n",
        "            if not mapping:\n",
        "                print(\n",
        "                    f\"Missing value mapping for {filter.node_label} on property {filter.property_key} with value {filter.property_value}\"\n",
        "                )\n",
        "                mapping_errors.append(\n",
        "                    f\"Missing value mapping for {filter.node_label} on property {filter.property_key} with value {filter.property_value}\"\n",
        "                )\n",
        "    if mapping_errors:\n",
        "        next_action = \"end\"\n",
        "    elif errors:\n",
        "        next_action = \"correct_cypher\"\n",
        "    else:\n",
        "        next_action = \"execute_cypher\"\n",
        "\n",
        "    return {\n",
        "        \"next_action\": next_action,\n",
        "        \"cypher_statement\": corrected_cypher,\n",
        "        \"cypher_errors\": errors,\n",
        "        \"steps\": [\"validate_cypher\"],\n",
        "    }"
      ],
      "metadata": {
        "id": "BxrADiZFHaBd"
      },
      "execution_count": 153,
      "outputs": []
    },
    {
      "cell_type": "markdown",
      "source": [
        "### h. Define LangChain chain to correct Cypher queries\n",
        "\n",
        "1. Import necessary dependencies\n",
        "\n",
        "2. correct_cypher_prompt Template\n",
        "\n",
        "a. ChatPromptTemplate: Creates a prompt template for a chat-based LLM.\n",
        "\n",
        "b. System Message:\n",
        "\n",
        "Instructs the LLM to act as a Cypher expert correcting a query.\n",
        "\n",
        "Emphasizes that the LLM should only return the corrected Cypher statement, without any extra text.\n",
        "\n",
        "c. Human Message:\n",
        "\n",
        "Provides the LLM with the schema, question, original Cypher query, and error messages.\n",
        "\n",
        "Instructs the LLM to return only the corrected Cypher statement.\n",
        "\n",
        "Specifies the LLM should not include explanations or apologies.\n",
        "\n",
        "Reinforces that the LLM should only construct a Cypher statement.\n",
        "\n",
        "3. correct_cypher_chain Chain\n",
        "\n",
        "Creates a LangChain runnable chain:\n",
        "\n",
        "correct_cypher_prompt: The prompt template.\n",
        "\n",
        "llm: The LLM to use.\n",
        "\n",
        "StrOutputParser(): Parses the LLM's output into a string.\n",
        "\n",
        "4. correct_cypher Function\n",
        "\n",
        "correct_cypher(state: OverallState) -> OverallState: Defines a function that takes an OverallState and returns an updated OverallState.\n",
        "\n",
        "corrected_cypher = correct_cypher_chain.invoke(...):\n",
        "\n",
        "Invokes the correct_cypher_chain with the question, errors, original Cypher query, and schema.\n",
        "\n",
        "Stores the corrected Cypher query in corrected_cypher.\n",
        "\n",
        "return {...}:\n",
        "\n",
        "Returns an OverallState dictionary:\n",
        "\n",
        "next_action: Set to \"validate_cypher\", indicating that the corrected query should be validated.\n",
        "\n",
        "cypher_statement: The corrected Cypher query.\n",
        "\n",
        "steps: A list containing \"correct_cypher\", indicating that this step was executed.\n",
        "\n",
        "summary:\n",
        "\n",
        "This code defines a function that uses an LLM to correct Cypher queries based on provided error messages. It uses a prompt template that includes the schema, question, original query, and errors to guide the LLM. The corrected query is then returned as part of an OverallState object. This function is part of a larger system that validates and corrects Cypher queries generated by a question-answering system that interacts with a Neo4j graph database."
      ],
      "metadata": {
        "id": "IV83qGulyM0A"
      }
    },
    {
      "cell_type": "code",
      "source": [
        "correct_cypher_prompt = ChatPromptTemplate.from_messages(\n",
        "    [\n",
        "        (\n",
        "            \"system\",\n",
        "            (\n",
        "                \"You are a Cypher expert reviewing a statement written by a junior developer. \"\n",
        "                \"You need to correct the Cypher statement based on the provided errors. No pre-amble.\"\n",
        "                \"Do not wrap the response in any backticks or anything else. Respond with a Cypher statement only!\"\n",
        "            ),\n",
        "        ),\n",
        "        (\n",
        "            \"human\",\n",
        "            (\n",
        "                \"\"\"Check for invalid syntax or semantics and return a corrected Cypher statement.\n",
        "\n",
        "Schema:\n",
        "{schema}\n",
        "\n",
        "Note: Do not include any explanations or apologies in your responses.\n",
        "Do not wrap the response in any backticks or anything else.\n",
        "Respond with a Cypher statement only!\n",
        "\n",
        "Do not respond to any questions that might ask anything else than for you to construct a Cypher statement.\n",
        "\n",
        "The question is:\n",
        "{question}\n",
        "\n",
        "The Cypher statement is:\n",
        "{cypher}\n",
        "\n",
        "The errors are:\n",
        "{errors}\n",
        "\n",
        "Corrected Cypher statement: \"\"\"\n",
        "            ),\n",
        "        ),\n",
        "    ]\n",
        ")\n",
        "\n",
        "correct_cypher_chain = correct_cypher_prompt | llm | StrOutputParser()\n",
        "\n",
        "\n",
        "def correct_cypher(state: OverallState) -> OverallState:\n",
        "    \"\"\"\n",
        "    Correct the Cypher statement based on the provided errors.\n",
        "    \"\"\"\n",
        "    corrected_cypher = correct_cypher_chain.invoke(\n",
        "        {\n",
        "            \"question\": state.get(\"question\"),\n",
        "            \"errors\": state.get(\"cypher_errors\"),\n",
        "            \"cypher\": state.get(\"cypher_statement\"),\n",
        "            \"schema\": enhanced_graph.schema,\n",
        "        }\n",
        "    )\n",
        "\n",
        "    return {\n",
        "        \"next_action\": \"validate_cypher\",\n",
        "        \"cypher_statement\": corrected_cypher,\n",
        "        \"steps\": [\"correct_cypher\"],\n",
        "    }"
      ],
      "metadata": {
        "id": "3BDdxun2HhT0"
      },
      "execution_count": 154,
      "outputs": []
    },
    {
      "cell_type": "markdown",
      "source": [
        "### i. Define a function execute_cypher\n",
        "\n",
        "1. no_results Variable : This line defines a string variable no_results that will be used as a message when the Cypher query returns no results.\n",
        "\n",
        "2. execute_cypher Function\n",
        "\n",
        "def execute_cypher(state: OverallState) -> OverallState:: Defines a function called execute_cypher that takes an OverallState object as input and returns an updated OverallState object.\n",
        "\n",
        "OverallState: Assumed to be a dictionary or a custom type that holds the current state of the application, including the Cypher query to execute.\n",
        "\n",
        "records = enhanced_graph.query(state.get(\"cypher_statement\")):\n",
        "\n",
        "state.get(\"cypher_statement\"): Retrieves the Cypher query from the OverallState object.\n",
        "\n",
        "enhanced_graph.query(...): Executes the Cypher query using the query() method of the enhanced_graph object (which is assumed to be an instance of Neo4jGraph or a similar object).\n",
        "\n",
        "The results of the query are stored in the records variable.\n",
        "\n",
        "return { ... }: Returns a dictionary representing the updated OverallState.\n",
        "\n",
        "\"database_records\": records if records else no_results:\n",
        "\n",
        "records if records else no_results: This is a conditional expression.\n",
        "\n",
        "If records is not empty (i.e., the query returned results), it assigns the records to \"database_records\".\n",
        "\n",
        "If records is empty (i.e., the query returned no results), it assigns the no_results message to \"database_records\".\n",
        "\n",
        "\"next_action\": \"end\": Sets the next_action to \"end\", indicating that this is the final step in the process.\n",
        "\n",
        "\"steps\": [\"execute_cypher\"]: Adds \"execute_cypher\" to the list of steps taken.\n",
        "\n",
        "function summary :\n",
        "\n",
        "1. Retrieves the Cypher query from the current state.\n",
        "2. Executes the query against the Neo4j database.\n",
        "3. If the query returns results, it stores them in the database_records field of the updated state.\n",
        "4. If the query returns no results, it stores a \"no results\" message in the database_records field.\n",
        "5. Sets the next_action to \"end\" and adds \"execute_cypher\" to the steps taken.\n",
        "Returns the updated state.\n",
        "6. This function is a crucial part of a system that uses Cypher queries to retrieve information from a Neo4j database based on user questions. It handles both successful and unsuccessful queries and provides appropriate feedback."
      ],
      "metadata": {
        "id": "jPHk7zcFzT6h"
      }
    },
    {
      "cell_type": "code",
      "source": [
        "no_results = \"I couldn't find any relevant information in the database\"\n",
        "\n",
        "\n",
        "def execute_cypher(state: OverallState) -> OverallState:\n",
        "    \"\"\"\n",
        "    Executes the given Cypher statement.\n",
        "    \"\"\"\n",
        "\n",
        "    records = enhanced_graph.query(state.get(\"cypher_statement\"))\n",
        "    return {\n",
        "        \"database_records\": records if records else no_results,\n",
        "        \"next_action\": \"end\",\n",
        "        \"steps\": [\"execute_cypher\"],\n",
        "    }"
      ],
      "metadata": {
        "id": "KKEwxstfHkHN"
      },
      "execution_count": 155,
      "outputs": []
    },
    {
      "cell_type": "markdown",
      "source": [
        "### j. Define Generate final answer block\n",
        "\n",
        "1. Import necessay dependencies\n",
        "\n",
        "2. generate_final_prompt Template\n",
        "\n",
        "ChatPromptTemplate: Creates a prompt template for a chat-based LLM.4\n",
        "\n",
        "System Message: Sets the LLM's role as a helpful assistant.\n",
        "\n",
        "Human Message:\n",
        "\n",
        "Instructs the LLM to use the database results to answer the user's question.\n",
        "\n",
        "Emphasizes that the response should be a direct answer.\n",
        "\n",
        "Includes placeholders for the database results ({results}) and the user's question ({question}).\n",
        "\n",
        "3. generate_final_chain Chain\n",
        "\n",
        "Creates a LangChain runnable chain:\n",
        "\n",
        "generate_final_prompt: The prompt template.\n",
        "\n",
        "llm: The LLM to use.\n",
        "\n",
        "StrOutputParser(): Parses the LLM's output into a string.\n",
        "\n",
        "4. generate_final_answer Function\n",
        "\n",
        "generate_final_answer(state: OverallState) -> OutputState: Defines a function that takes an OverallState and returns an OutputState.\n",
        "\n",
        "final_answer = generate_final_chain.invoke(...):\n",
        "\n",
        "Invokes the generate_final_chain with the user's question and the database results.\n",
        "\n",
        "Stores the generated answer in final_answer.\n",
        "\n",
        "return {\"answer\": final_answer, \"steps\": [\"generate_final_answer\"]}:\n",
        "\n",
        "Returns an OutputState dictionary:\n",
        "\n",
        "answer: The generated final answer.\n",
        "\n",
        "steps: A list containing \"generate_final_answer\", indicating that this step was executed.\n",
        "\n",
        "Summary\n",
        "\n",
        "This code defines a function that takes the results of a database query and a user question and generates a final answer using an LLM. It uses a prompt template that instructs the LLM to provide a succinct and direct answer based on the results. The generated answer is then returned as part of an OutputState object. This function is the final step in a question-answering system that retrieves information from a database based on user questions. It formats the database results into a natural language response that is easy for the user to understand."
      ],
      "metadata": {
        "id": "0eebgcBh0Pb8"
      }
    },
    {
      "cell_type": "code",
      "source": [
        "generate_final_prompt = ChatPromptTemplate.from_messages(\n",
        "    [\n",
        "        (\n",
        "            \"system\",\n",
        "            \"You are a helpful assistant\",\n",
        "        ),\n",
        "        (\n",
        "            \"human\",\n",
        "            (\n",
        "                \"\"\"Use the following results retrieved from a database to provide\n",
        "a succinct, definitive answer to the user's question.\n",
        "\n",
        "Respond as if you are answering the question directly.\n",
        "\n",
        "Results: {results}\n",
        "Question: {question}\"\"\"\n",
        "            ),\n",
        "        ),\n",
        "    ]\n",
        ")\n",
        "\n",
        "generate_final_chain = generate_final_prompt | llm | StrOutputParser()\n",
        "\n",
        "\n",
        "def generate_final_answer(state: OverallState) -> OutputState:\n",
        "    \"\"\"\n",
        "    Decides if the question is related to movies.\n",
        "    \"\"\"\n",
        "    final_answer = generate_final_chain.invoke(\n",
        "        {\"question\": state.get(\"question\"), \"results\": state.get(\"database_records\")}\n",
        "    )\n",
        "    return {\"answer\": final_answer, \"steps\": [\"generate_final_answer\"]}"
      ],
      "metadata": {
        "id": "kUKmFBxgHoYg"
      },
      "execution_count": 156,
      "outputs": []
    },
    {
      "cell_type": "markdown",
      "source": [
        "### k. Define guardrails_condition and validate_cypher_condition\n",
        "\n",
        "1. guardrails_condition Function\n",
        "\n",
        "Purpose: This function decides whether to generate a Cypher query or a final answer based on the next_action field in the OverallState.\n",
        "\n",
        "Input: It takes an OverallState object as input, which is assumed to be a dictionary or a custom type that holds the current state of the application.\n",
        "\n",
        "Logic:\n",
        "\n",
        "if state.get(\"next_action\") == \"end\": If the next_action is \"end\", it means the guardrails determined the user's question is not related to movies, so it should generate a final answer (likely an error message).\n",
        "\n",
        "elif state.get(\"next_action\") == \"movie\": If the next_action is \"movie\", it means the guardrails determined the question is related to movies, so it should generate a Cypher query.\n",
        "\n",
        "Output: It returns a Literal type, which can be either \"generate_cypher\" or \"generate_final_answer\", indicating the next step to take.\n",
        "\n",
        "2. validate_cypher_condition Function\n",
        "\n",
        "Purpose: This function decides the next step after Cypher query validation.\n",
        "\n",
        "Input: It also takes an OverallState object as input.\n",
        "\n",
        "Logic:\n",
        "\n",
        "if state.get(\"next_action\") == \"end\": If the next_action is \"end\", it means validation found unrecoverable errors, so it should generate a final answer.\n",
        "\n",
        "elif state.get(\"next_action\") == \"correct_cypher\": If the next_action is \"correct_cypher\", it means validation found errors that can be corrected, so it should proceed to correct the Cypher query.\n",
        "\n",
        "elif state.get(\"next_action\") == \"execute_cypher\": If the next_action is \"execute_cypher\", it means validation passed, so it should execute the Cypher query.\n",
        "\n",
        "Output: It returns a Literal type, which can be \"generate_final_answer\", \"correct_cypher\", or \"execute_cypher\", indicating the next step.\n",
        "\n",
        "Summary :\n",
        "\n",
        "These functions are used as routing mechanisms within a LangChain workflow. They allow the application to dynamically choose the next step based on the outcome of previous steps. This makes the application more flexible and robust, as it can handle different scenarios and error conditions.\n",
        "\n",
        "guardrails_condition routes based on whether the input question is about a movie.\n",
        "\n",
        "validate_cypher_condition routes based on the output of the cypher validation step."
      ],
      "metadata": {
        "id": "BGp_knL51wB_"
      }
    },
    {
      "cell_type": "code",
      "source": [
        "def guardrails_condition(\n",
        "    state: OverallState,\n",
        ") -> Literal[\"generate_cypher\", \"generate_final_answer\"]:\n",
        "    if state.get(\"next_action\") == \"end\":\n",
        "        return \"generate_final_answer\"\n",
        "    elif state.get(\"next_action\") == \"movie\":\n",
        "        return \"generate_cypher\"\n",
        "\n",
        "\n",
        "def validate_cypher_condition(\n",
        "    state: OverallState,\n",
        ") -> Literal[\"generate_final_answer\", \"correct_cypher\", \"execute_cypher\"]:\n",
        "    if state.get(\"next_action\") == \"end\":\n",
        "        return \"generate_final_answer\"\n",
        "    elif state.get(\"next_action\") == \"correct_cypher\":\n",
        "        return \"correct_cypher\"\n",
        "    elif state.get(\"next_action\") == \"execute_cypher\":\n",
        "        return \"execute_cypher\""
      ],
      "metadata": {
        "id": "rDLLROrzHrvU"
      },
      "execution_count": 157,
      "outputs": []
    },
    {
      "cell_type": "markdown",
      "source": [
        "### l. Define the Graph and visualize it"
      ],
      "metadata": {
        "id": "1UXMmVCq2jiJ"
      }
    },
    {
      "cell_type": "code",
      "source": [
        "from IPython.display import Image, display\n",
        "from langgraph.graph import END, START, StateGraph\n",
        "\n",
        "langgraph = StateGraph(OverallState, input=InputState, output=OutputState)\n",
        "langgraph.add_node(guardrails)\n",
        "langgraph.add_node(generate_cypher)\n",
        "langgraph.add_node(validate_cypher)\n",
        "langgraph.add_node(correct_cypher)\n",
        "langgraph.add_node(execute_cypher)\n",
        "langgraph.add_node(generate_final_answer)\n",
        "\n",
        "langgraph.add_edge(START, \"guardrails\")\n",
        "langgraph.add_conditional_edges(\n",
        "    \"guardrails\",\n",
        "    guardrails_condition,\n",
        ")\n",
        "langgraph.add_edge(\"generate_cypher\", \"validate_cypher\")\n",
        "langgraph.add_conditional_edges(\n",
        "    \"validate_cypher\",\n",
        "    validate_cypher_condition,\n",
        ")\n",
        "langgraph.add_edge(\"execute_cypher\", \"generate_final_answer\")\n",
        "langgraph.add_edge(\"correct_cypher\", \"validate_cypher\")\n",
        "langgraph.add_edge(\"generate_final_answer\", END)\n",
        "\n",
        "langgraph = langgraph.compile()\n",
        "\n",
        "# View\n",
        "display(Image(langgraph.get_graph().draw_mermaid_png()))"
      ],
      "metadata": {
        "colab": {
          "base_uri": "https://localhost:8080/",
          "height": 647
        },
        "id": "Zmghgm2YHui8",
        "outputId": "32250321-a8d4-4895-db14-8f794273024d"
      },
      "execution_count": 158,
      "outputs": [
        {
          "output_type": "display_data",
          "data": {
            "image/png": "[encoded data removed]",
            "text/plain": [
              "<IPython.core.display.Image object>"
            ]
          },
          "metadata": {}
        }
      ]
    },
    {
      "cell_type": "markdown",
      "source": [
        "### m. Invoke the workflow"
      ],
      "metadata": {
        "id": "7RqpJUO4csD5"
      }
    },
    {
      "cell_type": "code",
      "source": [
        "langgraph.invoke({\"question\": \"What's the weather in India?\"})"
      ],
      "metadata": {
        "colab": {
          "base_uri": "https://localhost:8080/"
        },
        "id": "SWNWBsVAHxbe",
        "outputId": "5efafcd8-4965-4cbf-94b6-471c87c8a275"
      },
      "execution_count": 130,
      "outputs": [
        {
          "output_type": "execute_result",
          "data": {
            "text/plain": [
              "{'answer': \"I'm unable to provide information about the weather in India.\",\n",
              " 'steps': ['guardrail', 'generate_final_answer']}"
            ]
          },
          "metadata": {},
          "execution_count": 130
        }
      ]
    },
    {
      "cell_type": "code",
      "source": [
        "langgraph.invoke({\"question\": \"What was the cast of the Casino?\"})"
      ],
      "metadata": {
        "colab": {
          "base_uri": "https://localhost:8080/"
        },
        "id": "N6zkft7EH0J1",
        "outputId": "ebdeba85-8e90-4237-e252-921977c25394"
      },
      "execution_count": 159,
      "outputs": [
        {
          "output_type": "stream",
          "name": "stdout",
          "text": [
            "Missing value mapping for Person on property name with value \n"
          ]
        },
        {
          "output_type": "execute_result",
          "data": {
            "text/plain": [
              "{'answer': 'The cast of \"Casino\" includes Robert De Niro, Sharon Stone, Joe Pesci, James Woods, and Don Rickles, among others.',\n",
              " 'steps': ['guardrail',\n",
              "  'generate_cypher',\n",
              "  'validate_cypher',\n",
              "  'generate_final_answer'],\n",
              " 'cypher_statement': \"MATCH (m:Movie {title: 'Casino'})<-[:ACTED_IN]-(a) RETURN a.name\"}"
            ]
          },
          "metadata": {},
          "execution_count": 159
        }
      ]
    },
    {
      "cell_type": "code",
      "source": [
        "langgraph.invoke({\"question\": \"Who was the director of Jumanji?\"})"
      ],
      "metadata": {
        "colab": {
          "base_uri": "https://localhost:8080/"
        },
        "id": "uscPJlV0H3Af",
        "outputId": "0b8cc6cc-df18-47f9-d097-edd6c5285042"
      },
      "execution_count": 160,
      "outputs": [
        {
          "output_type": "stream",
          "name": "stdout",
          "text": [
            "Missing value mapping for Person on property name with value d.name\n"
          ]
        },
        {
          "output_type": "execute_result",
          "data": {
            "text/plain": [
              "{'answer': 'The director of Jumanji is Joe Johnston.',\n",
              " 'steps': ['guardrail',\n",
              "  'generate_cypher',\n",
              "  'validate_cypher',\n",
              "  'generate_final_answer'],\n",
              " 'cypher_statement': \"MATCH (d:Person)-[:DIRECTED]->(m:Movie {title: 'Jumanji'}) RETURN d.name\"}"
            ]
          },
          "metadata": {},
          "execution_count": 160
        }
      ]
    },
    {
      "cell_type": "code",
      "source": [
        "langgraph.invoke({\"question\": \"What is the genre of Father of the Bride Part II?\"})"
      ],
      "metadata": {
        "colab": {
          "base_uri": "https://localhost:8080/"
        },
        "id": "eDGiMbEWIVlc",
        "outputId": "72ef9d23-8526-40e2-bd28-0f8eefb7ef06"
      },
      "execution_count": 161,
      "outputs": [
        {
          "output_type": "stream",
          "name": "stdout",
          "text": [
            "Missing value mapping for Genre on property name with value \n"
          ]
        },
        {
          "output_type": "execute_result",
          "data": {
            "text/plain": [
              "{'answer': 'The genre of \"Father of the Bride Part II\" is comedy.',\n",
              " 'steps': ['guardrail',\n",
              "  'generate_cypher',\n",
              "  'validate_cypher',\n",
              "  'generate_final_answer'],\n",
              " 'cypher_statement': \"MATCH (m:Movie {title: 'Father of the Bride Part II'})-[:IN_GENRE]->(g:Genre) RETURN g.name\"}"
            ]
          },
          "metadata": {},
          "execution_count": 161
        }
      ]
    },
    {
      "cell_type": "code",
      "source": [
        "langgraph.invoke({\"question\": \"Who were the actors in  Father of the Bride Part II?\"})"
      ],
      "metadata": {
        "colab": {
          "base_uri": "https://localhost:8080/"
        },
        "id": "w313dYcJI9lX",
        "outputId": "39f904ac-9eed-48ed-b326-a53ee3cbdd12"
      },
      "execution_count": 162,
      "outputs": [
        {
          "output_type": "stream",
          "name": "stdout",
          "text": [
            "Missing value mapping for Person on property name with value \n"
          ]
        },
        {
          "output_type": "execute_result",
          "data": {
            "text/plain": [
              "{'answer': 'The actors in \"Father of the Bride Part II\" include Steve Martin, Diane Keaton, Martin Short, Kimberly Williams-Paisley, and George Newbern.',\n",
              " 'steps': ['guardrail',\n",
              "  'generate_cypher',\n",
              "  'validate_cypher',\n",
              "  'generate_final_answer'],\n",
              " 'cypher_statement': \"MATCH (m:Movie {title: 'Father of the Bride Part II'})<-[:ACTED_IN]-(a) RETURN a.name\"}"
            ]
          },
          "metadata": {},
          "execution_count": 162
        }
      ]
    },
    {
      "cell_type": "code",
      "source": [
        "langgraph.invoke({\"question\": \"What is the imdb rating of Casino?\"})"
      ],
      "metadata": {
        "colab": {
          "base_uri": "https://localhost:8080/"
        },
        "id": "Q5BwbiKoKW8O",
        "outputId": "8398c410-299b-4e1e-c98b-8886f06101d8"
      },
      "execution_count": 163,
      "outputs": [
        {
          "output_type": "execute_result",
          "data": {
            "text/plain": [
              "{'answer': 'The IMDb rating of \"Casino\" is 8.2.',\n",
              " 'steps': ['guardrail',\n",
              "  'generate_cypher',\n",
              "  'validate_cypher',\n",
              "  'execute_cypher',\n",
              "  'generate_final_answer'],\n",
              " 'cypher_statement': \"MATCH (m:Movie {title: 'Casino'}) RETURN m.imdbRating\"}"
            ]
          },
          "metadata": {},
          "execution_count": 163
        }
      ]
    },
    {
      "cell_type": "code",
      "source": [
        "langgraph.invoke({\"question\": \"What is the imdb rating of Now and Then?\"})"
      ],
      "metadata": {
        "colab": {
          "base_uri": "https://localhost:8080/"
        },
        "id": "O69zCl2a3B1L",
        "outputId": "a3592065-c0b9-4da8-b619-0dfbbd9111c9"
      },
      "execution_count": 164,
      "outputs": [
        {
          "output_type": "execute_result",
          "data": {
            "text/plain": [
              "{'answer': 'The IMDb rating of \"Now and Then\" is 6.7.',\n",
              " 'steps': ['guardrail',\n",
              "  'generate_cypher',\n",
              "  'validate_cypher',\n",
              "  'execute_cypher',\n",
              "  'generate_final_answer'],\n",
              " 'cypher_statement': \"MATCH (m:Movie {title: 'Now and Then'}) RETURN m.imdbRating\"}"
            ]
          },
          "metadata": {},
          "execution_count": 164
        }
      ]
    },
    {
      "cell_type": "code",
      "source": [
        "langgraph.invoke({\"question\": \"What is the imdb rating of Dead Man Walking?\"})"
      ],
      "metadata": {
        "colab": {
          "base_uri": "https://localhost:8080/"
        },
        "id": "y0rZu4fJdIXp",
        "outputId": "7edf19f7-5f8c-4faa-96d9-ef9d5b3a8077"
      },
      "execution_count": 166,
      "outputs": [
        {
          "output_type": "execute_result",
          "data": {
            "text/plain": [
              "{'answer': 'The IMDb rating of \"Dead Man Walking\" is 7.6.',\n",
              " 'steps': ['guardrail',\n",
              "  'generate_cypher',\n",
              "  'validate_cypher',\n",
              "  'execute_cypher',\n",
              "  'generate_final_answer'],\n",
              " 'cypher_statement': \"MATCH (m:Movie {title: 'Dead Man Walking'}) RETURN m.imdbRating\"}"
            ]
          },
          "metadata": {},
          "execution_count": 166
        }
      ]
    },
    {
      "cell_type": "code",
      "source": [],
      "metadata": {
        "id": "ZpC-e07vdVZj"
      },
      "execution_count": null,
      "outputs": []
    }
  ]
}