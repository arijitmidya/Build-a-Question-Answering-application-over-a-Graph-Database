{
  "nbformat": 4,
  "nbformat_minor": 0,
  "metadata": {
    "colab": {
      "provenance": []
    },
    "kernelspec": {
      "name": "python3",
      "display_name": "Python 3"
    },
    "language_info": {
      "name": "python"
    }
  },
  "cells": [
    {
      "cell_type": "markdown",
      "source": [
        "# 1. Install necessary dependencies"
      ],
      "metadata": {
        "id": "Us6wDK28htQS"
      }
    },
    {
      "cell_type": "code",
      "source": [
        "%pip install --upgrade --quiet  langchain langchain-neo4j langchain-openai langgraph"
      ],
      "metadata": {
        "id": "PXAOWQJ4LG9O"
      },
      "execution_count": 13,
      "outputs": []
    },
    {
      "cell_type": "code",
      "source": [
        "os.environ[\"NEO4J_URI\"] = \"neo4j+s://01685918.databases.neo4j.io\"\n",
        "os.environ[\"NEO4J_USERNAME\"] = \"neo4j\"\n",
        "os.environ[\"NEO4J_PASSWORD\"] = \"VDcktQ6eWGXbZ2pMPCBjxFQGpej-ZfBoevKTbAQ0tsQ\""
      ],
      "metadata": {
        "id": "iv3qSp-dLRVu"
      },
      "execution_count": 24,
      "outputs": []
    },
    {
      "cell_type": "markdown",
      "source": [
        "# 2. Loading the movies dataset to Neo4j DB\n",
        "\n",
        "a. Import necessary dependencies\n",
        "\n",
        "b. Creating a Neo4jGraph Instance\n",
        "\n",
        "c. Defining the Cypher Query (movies_query)\n",
        "\n",
        "1. This multi-line string contains a Cypher query that will be executed against the Neo4j database.\n",
        "2. LOAD CSV WITH HEADERS FROM ...: This Cypher clause loads data from a CSV file hosted on GitHub.\n",
        "3. AS row: This assigns each row of the CSV file to the variable row.\n",
        "4. MERGE (m:Movie {id:row.movieId}): This creates or updates a Movie node in the graph. MERGE ensures that a node with the specified id (which is the movieId from the CSV) is created only if it doesn't already exist.\n",
        "5. SET m.released = date(row.released), m.title = row.title, m.imdbRating = toFloat(row.imdbRating): This sets properties on the Movie node:\n",
        "\n",
        "m.released: The release date, converted to a Neo4j date type.\n",
        "\n",
        "m.title: The movie title.\n",
        "\n",
        "m.imdbRating: The IMDb rating, converted to a floating-point number.\n",
        "\n",
        "6. FOREACH (director in split(row.director, '|') | ...): This iterates through the directors listed in the director column (which can contain multiple directors separated by |).\n",
        "\n",
        "MERGE (p:Person {name:trim(director)}): Creates or updates a Person node for each director.\n",
        "\n",
        "MERGE (p)-[:DIRECTED]->(m): Creates a DIRECTED relationship from the Person node to the Movie node.\n",
        "\n",
        "7. FOREACH (actor in split(row.actors, '|') | ...): This does the same for actors, creating Person nodes and ACTED_IN relationships.\n",
        "8. FOREACH (genre in split(row.genres, '|') | ...): This does the same for genres, creating Genre nodes and IN_GENRE relationships.\n",
        "\n",
        "d. Executing the Cypher Query\n",
        "\n",
        "Summary\n",
        "\n",
        "This code connects to a Neo4j database, loads movie data from a CSV file, and creates a graph structure representing movies, people (directors and actors), and genres, with relationships between them. The MERGE operation is used to prevent duplicate nodes, and FOREACH is used to handle multi-valued columns in the CSV."
      ],
      "metadata": {
        "id": "nHBlAwjBh_Gj"
      }
    },
    {
      "cell_type": "code",
      "source": [
        "from langchain_neo4j import Neo4jGraph\n",
        "\n",
        "graph = Neo4jGraph(refresh_schema=False)\n",
        "\n",
        "# Import movie information\n",
        "\n",
        "movies_query = \"\"\"\n",
        "LOAD CSV WITH HEADERS FROM\n",
        "'https://raw.githubusercontent.com/tomasonjo/blog-datasets/main/movies/movies_small.csv'\n",
        "AS row\n",
        "MERGE (m:Movie {id:row.movieId})\n",
        "SET m.released = date(row.released),\n",
        "    m.title = row.title,\n",
        "    m.imdbRating = toFloat(row.imdbRating)\n",
        "FOREACH (director in split(row.director, '|') |\n",
        "    MERGE (p:Person {name:trim(director)})\n",
        "    MERGE (p)-[:DIRECTED]->(m))\n",
        "FOREACH (actor in split(row.actors, '|') |\n",
        "    MERGE (p:Person {name:trim(actor)})\n",
        "    MERGE (p)-[:ACTED_IN]->(m))\n",
        "FOREACH (genre in split(row.genres, '|') |\n",
        "    MERGE (g:Genre {name:trim(genre)})\n",
        "    MERGE (m)-[:IN_GENRE]->(g))\n",
        "\"\"\"\n",
        "\n",
        "graph.query(movies_query)"
      ],
      "metadata": {
        "colab": {
          "base_uri": "https://localhost:8080/"
        },
        "id": "echRtZuyLco1",
        "outputId": "4de28d5a-a8bf-43d8-f0e8-1b91603aa4de"
      },
      "execution_count": 15,
      "outputs": [
        {
          "output_type": "execute_result",
          "data": {
            "text/plain": [
              "[]"
            ]
          },
          "metadata": {},
          "execution_count": 15
        }
      ]
    },
    {
      "cell_type": "markdown",
      "source": [
        "# 3. Define Custom tools with Cypher templates\n",
        "\n",
        "1. description_query Cypher Query\n",
        "\n",
        "Purpose: This query aims to find a movie or person whose title or name contains a specified candidate string ($candidate) and retrieve information about their relationships and properties.\n",
        "\n",
        "Explanation:\n",
        "\n",
        "MATCH (m:Movie|Person): Matches nodes with either the \"Movie\" or \"Person\" label.\n",
        "\n",
        "WHERE m.title CONTAINS $candidate OR m.name CONTAINS $candidate: Filters the matched nodes to those whose title or name contains the $candidate parameter.\n",
        "\n",
        "MATCH (m)-[r:ACTED_IN|IN_GENRE]-(t): Matches the nodes connected to m by either \"ACTED_IN\" or \"IN_GENRE\" relationships.\n",
        "\n",
        "WITH m, type(r) as type, collect(coalesce(t.name, t.title)) as names: Collects the relationship type and the names (or titles) of the related nodes.\n",
        "\n",
        "WITH m, type+\": \"+reduce(s=\"\", n IN names | s + n + \", \") as types: Combines the relationship type and names into a formatted string.\n",
        "\n",
        "WITH m, collect(types) as contexts: Collects all the formatted strings for the relationships.\n",
        "\n",
        "WITH m, \"type:\" + labels(m)[0] + \"\\ntitle: \"+ coalesce(m.title, m.name) + \"\\nyear: \"+coalesce(m.released,\"\") +\"\\n\" + reduce(s=\"\", c in contexts | s + substring(c, 0, size(c)-2) +\"\\n\") as context: Constructs the final context string, including the node label, title/name, release year, and relationship information.\n",
        "\n",
        "RETURN context LIMIT 1: Returns the constructed context string for the first matched node.\n",
        "\n",
        "2. get_information Function\n",
        "\n",
        "Purpose: This function retrieves information about an entity from the Neo4j graph.\n",
        "\n",
        "Input: It takes an entity string as input, which is the candidate title or name to search for.\n",
        "\n",
        "Logic:\n",
        "\n",
        "try...except IndexError: Uses a try-except block to handle the case where no results are found.\n",
        "\n",
        "data = graph.query(description_query, params={\"candidate\": entity}): Executes the description_query with the provided entity as the $candidate parameter. The results are stored in the data variable.\n",
        "\n",
        "return data[0][\"context\"]: If results are found, it returns the \"context\" field from the first result.\n",
        "\n",
        "return \"No information was found\": If an IndexError occurs (meaning no results were found), it returns the \"No information was found\" message.\n",
        "\n",
        "Output: It returns a string containing the information about the entity, or a \"No information was found\" message if no results are found.\n",
        "\n",
        "summary:\n",
        "\n",
        "This code defines a Cypher query and a function to retrieve information about movies or people from a Neo4j graph. The query searches for nodes whose title or name contains a given candidate string and returns a formatted string containing information about the node's relationships and properties. The function executes the query and handles the case where no results are found."
      ],
      "metadata": {
        "id": "UUY4M4Nrf2ol"
      }
    },
    {
      "cell_type": "code",
      "source": [
        "description_query = \"\"\"\n",
        "MATCH (m:Movie|Person)\n",
        "WHERE m.title CONTAINS $candidate OR m.name CONTAINS $candidate\n",
        "MATCH (m)-[r:ACTED_IN|IN_GENRE]-(t)\n",
        "WITH m, type(r) as type, collect(coalesce(t.name, t.title)) as names\n",
        "WITH m, type+\": \"+reduce(s=\"\", n IN names | s + n + \", \") as types\n",
        "WITH m, collect(types) as contexts\n",
        "WITH m, \"type:\" + labels(m)[0] + \"\\ntitle: \"+ coalesce(m.title, m.name)\n",
        "       + \"\\nyear: \"+coalesce(m.released,\"\") +\"\\n\" +\n",
        "       reduce(s=\"\", c in contexts | s + substring(c, 0, size(c)-2) +\"\\n\") as context\n",
        "RETURN context LIMIT 1\n",
        "\"\"\"\n",
        "\n",
        "\n",
        "def get_information(entity: str) -> str:\n",
        "    try:\n",
        "        data = graph.query(description_query, params={\"candidate\": entity})\n",
        "        return data[0][\"context\"]\n",
        "    except IndexError:\n",
        "        return \"No information was found\""
      ],
      "metadata": {
        "id": "Y60Bt8SqLiri"
      },
      "execution_count": 16,
      "outputs": []
    },
    {
      "cell_type": "markdown",
      "source": [
        "# 4. Defines a custom tool called InformationTool\n",
        "\n",
        "1. Import necessary dependencies\n",
        "\n",
        "2. InformationInput Model\n",
        "\n",
        "a. InformationInput(BaseModel): Defines a Pydantic model called InformationInput.\n",
        "\n",
        "b. entity: str = Field(...): Specifies that the input to the tool should be a dictionary with a single key: entity.\n",
        "\n",
        "entity: Represents the movie or person's name.\n",
        "\n",
        "Field(...): Adds metadata to the entity field, including a description.\n",
        "\n",
        "3. InformationTool Class\n",
        "\n",
        "a. class InformationTool(BaseTool): Defines a class called InformationTool that inherits from BaseTool.\n",
        "\n",
        "b. name: str = \"Information\": Sets the name of the tool to \"Information\".\n",
        "\n",
        "c. description: str = \"useful for when you need to answer questions about various actors or movies\": Sets the description of the tool.\n",
        "\n",
        "d. args_schema: Type[BaseModel] = InformationInput: Specifies that the input to the tool should conform to the InformationInput model.\n",
        "\n",
        "e. _run(self, entity: str) -> str: Defines the synchronous _run method, which is called when the tool is executed.\n",
        "\n",
        "return get_information(entity): Calls the get_information function (from the previous explanation) to retrieve information about the entity and returns the result.\n",
        "\n",
        "f. async def _arun(self, entity: str) -> str: Defines the asynchronous _arun method, which is called when the tool is executed asynchronously.\n",
        "\n",
        "return get_information(entity): Calls the get_information function (which is synchronous) and returns the result. Note that if get_information were async, you would await it.\n",
        "\n",
        "How it Works:\n",
        "\n",
        "Input: The tool takes an entity string as input, which represents the name of a movie or person.\n",
        "\n",
        "Information Retrieval: It calls the get_information function to retrieve information about the entity from the data source.\n",
        "\n",
        "Output: It returns the retrieved information as a string.\n"
      ],
      "metadata": {
        "id": "O2Lh_zUSj2lP"
      }
    },
    {
      "cell_type": "code",
      "source": [
        "from typing import Optional, Type\n",
        "\n",
        "from langchain_core.tools import BaseTool\n",
        "from pydantic import BaseModel, Field\n",
        "\n",
        "\n",
        "class InformationInput(BaseModel):\n",
        "    entity: str = Field(description=\"movie or a person mentioned in the question\")\n",
        "\n",
        "\n",
        "class InformationTool(BaseTool):\n",
        "    name: str = \"Information\"\n",
        "    description: str = (\n",
        "        \"useful for when you need to answer questions about various actors or movies\"\n",
        "    )\n",
        "    args_schema: Type[BaseModel] = InformationInput\n",
        "\n",
        "    def _run(\n",
        "        self,\n",
        "        entity: str,\n",
        "    ) -> str:\n",
        "        \"\"\"Use the tool.\"\"\"\n",
        "        return get_information(entity)\n",
        "\n",
        "    async def _arun(\n",
        "        self,\n",
        "        entity: str,\n",
        "    ) -> str:\n",
        "        \"\"\"Use the tool asynchronously.\"\"\"\n",
        "        return get_information(entity)"
      ],
      "metadata": {
        "id": "2Wb9RXmdLn8r"
      },
      "execution_count": 17,
      "outputs": []
    },
    {
      "cell_type": "markdown",
      "source": [
        "# 5. Define the LangGraph Agent\n",
        "\n",
        "How it Works:\n",
        "\n",
        "a. Initialization: The code initializes an LLM, binds the InformationTool to it, and sets up a system message.\n",
        "\n",
        "b. assistant Node: The assistant function is a node in a LangGraph graph. It takes the current conversation state, combines it with the system message, and sends it to the LLM.\n",
        "\n",
        "c. LLM Response: The LLM receives the messages and generates a response. If the LLM determines that it needs to retrieve information about a movie, it will use the InformationTool to do so.\n",
        "\n",
        "d. State Update: The assistant function returns the LLM's response, which will be used to update the conversation state.\n",
        "\n",
        "In simpler terms:\n",
        "\n",
        "This code sets up a \"smart assistant\" that can talk about movies. It has a \"tool\" that it can use to look up information about movies. When you ask it a question, it uses its \"tool\" to find the answer and then tells you what it found. It keeps track of what you've already talked about so it can remember the conversation."
      ],
      "metadata": {
        "id": "BMYsTiRAgLHm"
      }
    },
    {
      "cell_type": "code",
      "source": [
        "from langchain_core.messages import HumanMessage, SystemMessage\n",
        "from langchain_openai import ChatOpenAI\n",
        "from langgraph.graph import MessagesState\n",
        "\n",
        "llm = ChatOpenAI(model=\"gpt-4o-mini\")\n",
        "\n",
        "tools = [InformationTool()]\n",
        "llm_with_tools = llm.bind_tools(tools)\n",
        "\n",
        "# System message\n",
        "sys_msg = SystemMessage(\n",
        "    content=\"You are a helpful assistant tasked with finding and explaining relevant information about movies.\"\n",
        ")\n",
        "\n",
        "\n",
        "# Node\n",
        "def assistant(state: MessagesState):\n",
        "    return {\"messages\": [llm_with_tools.invoke([sys_msg] + state[\"messages\"])]}"
      ],
      "metadata": {
        "id": "I1XwiDWiLqgX"
      },
      "execution_count": 18,
      "outputs": []
    },
    {
      "cell_type": "markdown",
      "source": [
        "# 6. Define the Langgraph flow and visualize"
      ],
      "metadata": {
        "id": "FnsQV4RygUxx"
      }
    },
    {
      "cell_type": "code",
      "source": [
        "from IPython.display import Image, display\n",
        "from langgraph.graph import END, START, StateGraph\n",
        "from langgraph.prebuilt import ToolNode, tools_condition\n",
        "\n",
        "# Graph\n",
        "builder = StateGraph(MessagesState)\n",
        "\n",
        "# Define nodes: these do the work\n",
        "builder.add_node(\"assistant\", assistant)\n",
        "builder.add_node(\"tools\", ToolNode(tools))\n",
        "\n",
        "# Define edges: these determine how the control flow moves\n",
        "builder.add_edge(START, \"assistant\")\n",
        "builder.add_conditional_edges(\n",
        "    \"assistant\",\n",
        "    # If the latest message (result) from assistant is a tool call -> tools_condition routes to tools\n",
        "    # If the latest message (result) from assistant is a not a tool call -> tools_condition routes to END\n",
        "    tools_condition,\n",
        ")\n",
        "builder.add_edge(\"tools\", \"assistant\")\n",
        "react_graph = builder.compile()\n",
        "\n",
        "# Show\n",
        "display(Image(react_graph.get_graph(xray=True).draw_mermaid_png()))"
      ],
      "metadata": {
        "colab": {
          "base_uri": "https://localhost:8080/",
          "height": 266
        },
        "id": "SlPpBVmdLtaM",
        "outputId": "03176298-598e-4d7a-ee63-a945d4abc46d"
      },
      "execution_count": 19,
      "outputs": [
        {
          "output_type": "display_data",
          "data": {
            "image/png": "[encoded data removed]",
            "text/plain": [
              "<IPython.core.display.Image object>"
            ]
          },
          "metadata": {}
        }
      ]
    },
    {
      "cell_type": "markdown",
      "source": [
        "# Invoke the workflow"
      ],
      "metadata": {
        "id": "Ddhx_IT2gdvJ"
      }
    },
    {
      "cell_type": "code",
      "source": [
        "input_messages = [HumanMessage(content=\"Who played in the Casino?\")]\n",
        "messages = react_graph.invoke({\"messages\": input_messages})\n",
        "for m in messages[\"messages\"]:\n",
        "    m.pretty_print()"
      ],
      "metadata": {
        "colab": {
          "base_uri": "https://localhost:8080/"
        },
        "id": "lCa78UojMBl5",
        "outputId": "3a935ad7-c815-4eba-92f9-20cb43991ecf"
      },
      "execution_count": 20,
      "outputs": [
        {
          "output_type": "stream",
          "name": "stdout",
          "text": [
            "================================\u001b[1m Human Message \u001b[0m=================================\n",
            "\n",
            "Who played in the Casino?\n",
            "==================================\u001b[1m Ai Message \u001b[0m==================================\n",
            "Tool Calls:\n",
            "  Information (call_pUkSBi0ovbm1UojLPgX6xGiM)\n",
            " Call ID: call_pUkSBi0ovbm1UojLPgX6xGiM\n",
            "  Args:\n",
            "    entity: Casino\n",
            "=================================\u001b[1m Tool Message \u001b[0m=================================\n",
            "Name: Information\n",
            "\n",
            "type:Movie\n",
            "title: Casino\n",
            "year: 1995-11-22\n",
            "ACTED_IN: Robert De Niro, Joe Pesci, Sharon Stone, James Woods\n",
            "IN_GENRE: Drama, Crime\n",
            "\n",
            "==================================\u001b[1m Ai Message \u001b[0m==================================\n",
            "\n",
            "The movie \"Casino,\" released on November 22, 1995, features the following key actors:\n",
            "\n",
            "- Robert De Niro\n",
            "- Joe Pesci\n",
            "- Sharon Stone\n",
            "- James Woods\n",
            "\n",
            "It's a drama and crime film directed by Martin Scorsese.\n"
          ]
        }
      ]
    },
    {
      "cell_type": "markdown",
      "source": [
        "# Output explanation\n",
        "\n",
        "Here's a breakdown:\n",
        "\n",
        "1. Human Message:\n",
        "\n",
        "================================ Human Message =================================\n",
        "\n",
        "Who played in the Casino?\n",
        "\n",
        "This is the initial user query. The user is asking for the actors who played in the movie \"Casino.\"\n",
        "\n",
        "2. AI Message (Tool Call):\n",
        "\n",
        "================================== Ai Message ==================================\n",
        "Tool Calls:\n",
        "  Information (call_pUkSBi0ovbm1UojLPgX6xGiM)\n",
        " Call ID: call_pUkSBi0ovbm1UojLPgX6xGiM\n",
        "  Args:\n",
        "    entity: Casino\n",
        "The agent recognizes that it needs to retrieve information about the movie \"Casino\" to answer the question.\n",
        "\n",
        "It uses the \"Information\" tool (which we defined earlier) to do this.\n",
        "\n",
        "call_pUkSBi0ovbm1UojLPgX6xGiM: This is a unique identifier for this specific tool call.\n",
        "\n",
        "Args: entity: Casino: The agent passes \"Casino\" as the argument to the \"Information\" tool.\n",
        "\n",
        "3. Tool Message:\n",
        "\n",
        "================================= Tool Message =================================\n",
        "Name: Information\n",
        "\n",
        "type:Movie\n",
        "\n",
        "title: Casino\n",
        "\n",
        "year: 1995-11-22\n",
        "\n",
        "ACTED_IN: Robert De Niro, Joe Pesci, Sharon Stone, James Woods\n",
        "\n",
        "IN_GENRE: Drama, Crime\n",
        "\n",
        "This is the response from the \"Information\" tool.\n",
        "\n",
        "It provides the following information about the movie \"Casino\":\n",
        "\n",
        "type: Movie: Indicates it's a movie.\n",
        "\n",
        "title: Casino: The title of the movie.\n",
        "\n",
        "year: 1995-11-22: The release date of the movie.\n",
        "\n",
        "ACTED_IN: Robert De Niro, Joe Pesci, Sharon Stone, James Woods: The actors who played in the movie.\n",
        "\n",
        "IN_GENRE: Drama, Crime: The genres of the movie.\n",
        "\n",
        "4. AI Message (Final Answer):\n",
        "\n",
        "================================== Ai Message ==================================\n",
        "\n",
        "The movie \"Casino,\" released on November 22, 1995, features the following key actors:\n",
        "\n",
        "- Robert De Niro\n",
        "- Joe Pesci\n",
        "- Sharon Stone\n",
        "- James Woods\n",
        "\n",
        "It's a drama and crime film directed by Martin Scorsese.\n",
        "\n",
        "The agent uses the information retrieved from the tool to generate a final answer to the user's question.\n",
        "\n",
        "It presents the answer in a clear and natural language format.\n",
        "\n",
        "It also includes the movie's release date and genres, providing additional context.\n",
        "\n",
        "It also adds that it was directed by Martin Scorsese, which was not available from the tool.\n",
        "\n",
        "Summary:\n",
        "\n",
        "The agent received a user question, used a tool to retrieve relevant information from a data source, and then generated a final answer based on the retrieved information. This demonstrates the typical workflow of a LangChain agent that uses tools to interact with external data sources and answer user questions."
      ],
      "metadata": {
        "id": "z1cAoIkVlwBu"
      }
    },
    {
      "cell_type": "code",
      "source": [
        "input_messages = [HumanMessage(content=\"Who was the director of Jumanji?\")]\n",
        "messages = react_graph.invoke({\"messages\": input_messages})\n",
        "for m in messages[\"messages\"]:\n",
        "    m.pretty_print()"
      ],
      "metadata": {
        "colab": {
          "base_uri": "https://localhost:8080/"
        },
        "id": "sP2sIPPCMEIx",
        "outputId": "65b0e956-1147-40da-b2e8-fc94b8206c38"
      },
      "execution_count": 21,
      "outputs": [
        {
          "output_type": "stream",
          "name": "stdout",
          "text": [
            "================================\u001b[1m Human Message \u001b[0m=================================\n",
            "\n",
            "Who was the director of Jumanji?\n",
            "==================================\u001b[1m Ai Message \u001b[0m==================================\n",
            "Tool Calls:\n",
            "  Information (call_34UrF1N02UgeXkt5tkOR4syw)\n",
            " Call ID: call_34UrF1N02UgeXkt5tkOR4syw\n",
            "  Args:\n",
            "    entity: Jumanji\n",
            "=================================\u001b[1m Tool Message \u001b[0m=================================\n",
            "Name: Information\n",
            "\n",
            "type:Movie\n",
            "title: Jumanji\n",
            "year: 1995-12-15\n",
            "ACTED_IN: Robin Williams, Bradley Pierce, Kirsten Dunst, Jonathan Hyde\n",
            "IN_GENRE: Adventure, Children, Fantasy\n",
            "\n",
            "==================================\u001b[1m Ai Message \u001b[0m==================================\n",
            "Tool Calls:\n",
            "  Information (call_vuqgkWohTVZu973qUT2IvLXl)\n",
            " Call ID: call_vuqgkWohTVZu973qUT2IvLXl\n",
            "  Args:\n",
            "    entity: Jumanji 1995\n",
            "=================================\u001b[1m Tool Message \u001b[0m=================================\n",
            "Name: Information\n",
            "\n",
            "No information was found\n",
            "==================================\u001b[1m Ai Message \u001b[0m==================================\n",
            "Tool Calls:\n",
            "  Information (call_H80YUx7IwDBXptlBwy2srjBh)\n",
            " Call ID: call_H80YUx7IwDBXptlBwy2srjBh\n",
            "  Args:\n",
            "    entity: Jumanji (1995 film)\n",
            "=================================\u001b[1m Tool Message \u001b[0m=================================\n",
            "Name: Information\n",
            "\n",
            "No information was found\n",
            "==================================\u001b[1m Ai Message \u001b[0m==================================\n",
            "Tool Calls:\n",
            "  Information (call_PCwdxknYLBoPu7puCE9Az7ZQ)\n",
            " Call ID: call_PCwdxknYLBoPu7puCE9Az7ZQ\n",
            "  Args:\n",
            "    entity: Jumanji (film)\n",
            "=================================\u001b[1m Tool Message \u001b[0m=================================\n",
            "Name: Information\n",
            "\n",
            "No information was found\n",
            "==================================\u001b[1m Ai Message \u001b[0m==================================\n",
            "Tool Calls:\n",
            "  Information (call_Kmkwnw7nQxYfYNB3zYqw6TUs)\n",
            " Call ID: call_Kmkwnw7nQxYfYNB3zYqw6TUs\n",
            "  Args:\n",
            "    entity: Jumanji (1995)\n",
            "=================================\u001b[1m Tool Message \u001b[0m=================================\n",
            "Name: Information\n",
            "\n",
            "No information was found\n",
            "==================================\u001b[1m Ai Message \u001b[0m==================================\n",
            "Tool Calls:\n",
            "  Information (call_hvcod05XkJm2NI7mYVpKjJrR)\n",
            " Call ID: call_hvcod05XkJm2NI7mYVpKjJrR\n",
            "  Args:\n",
            "    entity: Jumanji: Welcome to the Jungle\n",
            "=================================\u001b[1m Tool Message \u001b[0m=================================\n",
            "Name: Information\n",
            "\n",
            "No information was found\n",
            "==================================\u001b[1m Ai Message \u001b[0m==================================\n",
            "Tool Calls:\n",
            "  Information (call_RgwyQoGT5I9BfjQJzzTaN7SQ)\n",
            " Call ID: call_RgwyQoGT5I9BfjQJzzTaN7SQ\n",
            "  Args:\n",
            "    entity: Jumanji: The Next Level\n",
            "=================================\u001b[1m Tool Message \u001b[0m=================================\n",
            "Name: Information\n",
            "\n",
            "No information was found\n",
            "==================================\u001b[1m Ai Message \u001b[0m==================================\n",
            "\n",
            "The original \"Jumanji\" film, released in 1995, was directed by Joe Johnston. If you need information on any other Jumanji films or details about the director, feel free to ask!\n"
          ]
        }
      ]
    },
    {
      "cell_type": "code",
      "source": [
        "input_messages = [HumanMessage(content=\"What is the genre of Father of the Bride Part II?\")]\n",
        "messages = react_graph.invoke({\"messages\": input_messages})\n",
        "for m in messages[\"messages\"]:\n",
        "    m.pretty_print()"
      ],
      "metadata": {
        "colab": {
          "base_uri": "https://localhost:8080/"
        },
        "id": "e7mUePizgviR",
        "outputId": "7d9c1b45-dfb5-4de4-f0d4-51d18215ae22"
      },
      "execution_count": 22,
      "outputs": [
        {
          "output_type": "stream",
          "name": "stdout",
          "text": [
            "================================\u001b[1m Human Message \u001b[0m=================================\n",
            "\n",
            "What is the genre of Father of the Bride Part II?\n",
            "==================================\u001b[1m Ai Message \u001b[0m==================================\n",
            "Tool Calls:\n",
            "  Information (call_GzqW8FQtHxriknpXypvDT1od)\n",
            " Call ID: call_GzqW8FQtHxriknpXypvDT1od\n",
            "  Args:\n",
            "    entity: Father of the Bride Part II\n",
            "=================================\u001b[1m Tool Message \u001b[0m=================================\n",
            "Name: Information\n",
            "\n",
            "type:Movie\n",
            "title: Father of the Bride Part II\n",
            "year: 1995-12-08\n",
            "ACTED_IN: Diane Keaton, Steve Martin, Kimberly Williams-Paisley, Martin Short\n",
            "IN_GENRE: Comedy\n",
            "\n",
            "==================================\u001b[1m Ai Message \u001b[0m==================================\n",
            "\n",
            "The genre of \"Father of the Bride Part II\" is Comedy.\n"
          ]
        }
      ]
    },
    {
      "cell_type": "code",
      "source": [
        "input_messages = [HumanMessage(content=\"What is the cast of Dead Man Walking?\")]\n",
        "messages = react_graph.invoke({\"messages\": input_messages})\n",
        "for m in messages[\"messages\"]:\n",
        "    m.pretty_print()"
      ],
      "metadata": {
        "colab": {
          "base_uri": "https://localhost:8080/"
        },
        "id": "Mt4eDaKShBrJ",
        "outputId": "19dd298c-85e6-4dd7-95ba-bc3a0a1a457c"
      },
      "execution_count": 23,
      "outputs": [
        {
          "output_type": "stream",
          "name": "stdout",
          "text": [
            "================================\u001b[1m Human Message \u001b[0m=================================\n",
            "\n",
            "What is the cast of Dead Man Walking?\n",
            "==================================\u001b[1m Ai Message \u001b[0m==================================\n",
            "Tool Calls:\n",
            "  Information (call_h2X1nJnPXdVnQeXVUqMyRFEG)\n",
            " Call ID: call_h2X1nJnPXdVnQeXVUqMyRFEG\n",
            "  Args:\n",
            "    entity: Dead Man Walking\n",
            "=================================\u001b[1m Tool Message \u001b[0m=================================\n",
            "Name: Information\n",
            "\n",
            "type:Movie\n",
            "title: Dead Man Walking\n",
            "year: 1996-02-02\n",
            "ACTED_IN: Sean Penn, Raymond J. Barry, Susan Sarandon, Robert Prosky\n",
            "IN_GENRE: Drama, Crime\n",
            "\n",
            "==================================\u001b[1m Ai Message \u001b[0m==================================\n",
            "\n",
            "The cast of \"Dead Man Walking\" (1996) includes:\n",
            "\n",
            "- Sean Penn\n",
            "- Susan Sarandon\n",
            "- Raymond J. Barry\n",
            "- Robert Prosky\n",
            "\n",
            "This film falls under the genres of Drama and Crime.\n"
          ]
        }
      ]
    },
    {
      "cell_type": "code",
      "source": [],
      "metadata": {
        "id": "U2nolvfjhQ8N"
      },
      "execution_count": null,
      "outputs": []
    }
  ]
}